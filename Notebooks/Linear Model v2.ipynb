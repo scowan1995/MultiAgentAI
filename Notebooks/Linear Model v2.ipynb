{
 "cells": [
  {
   "cell_type": "markdown",
   "metadata": {},
   "source": [
    "# Linear Model v2"
   ]
  },
  {
   "cell_type": "markdown",
   "metadata": {},
   "source": [
    "## Enviroment"
   ]
  },
  {
   "cell_type": "code",
   "execution_count": 28,
   "metadata": {},
   "outputs": [],
   "source": [
    "import os\n",
    "import pandas as pd\n",
    "import numpy as np\n",
    "import matplotlib.pylab as plt\n",
    "import random\n",
    "import math\n",
    "import copy\n",
    "\n",
    "import sys\n",
    "sys.path.append('../')\n",
    "\n",
    "from Preprocessing import preprocessing\n",
    "from Preprocessing.single_set import SingleSet"
   ]
  },
  {
   "cell_type": "code",
   "execution_count": 2,
   "metadata": {},
   "outputs": [],
   "source": [
    "%matplotlib inline"
   ]
  },
  {
   "cell_type": "markdown",
   "metadata": {},
   "source": [
    "## Data Preprocessing\n",
    "\n",
    "Features: data.data_features\n",
    "Targets: data.data_targets (click, bidprice, payprice)"
   ]
  },
  {
   "cell_type": "code",
   "execution_count": 29,
   "metadata": {},
   "outputs": [
    {
     "name": "stdout",
     "output_type": "stream",
     "text": [
      "-- data loaded --\n",
      "-- data loaded --\n",
      "-- data loaded --\n"
     ]
    }
   ],
   "source": [
    "train_data_path = '/Data/train.csv'\n",
    "train_data = SingleSet(relative_path=train_data_path,use_numerical_labels=True)\n",
    "\n",
    "val_data_path = '/Data/validation.csv'\n",
    "val_data = SingleSet(relative_path=val_data_path,use_numerical_labels=True)\n",
    "\n",
    "test_data_path = '/Data/test.csv'\n",
    "test_data = SingleSet(relative_path=test_data_path,use_numerical_labels=True)"
   ]
  },
  {
   "cell_type": "code",
   "execution_count": 32,
   "metadata": {},
   "outputs": [],
   "source": [
    "def pandas_to_numpy(data):\n",
    "\n",
    "    ## features\n",
    "    features = np.asarray(data.data_features.values)\n",
    "\n",
    "    ## targets\n",
    "    if hasattr(data, \"data_targets\"):\n",
    "        labels = np.asarray(data.data_targets.values)\n",
    "        \n",
    "    return features, labels\n",
    "\n",
    "\n",
    "## drop unnecessary features\n",
    "def drop_features(data):\n",
    "    \n",
    "    keep_features = [\"hour\", \"useragent\", \"adexchange\", \"url\", \"slotformat\", \"slotid\"]\n",
    "    for f in data.data_features:\n",
    "        if f not in keep_features:\n",
    "            data.data_features.drop(f, axis=1, inplace = True)\n",
    "    \n",
    "    \n",
    "train_data_click = copy.deepcopy(train_data)\n",
    "val_data_click = copy.deepcopy(val_data)\n",
    "test_data_click = copy.deepcopy(test_data)\n",
    "\n",
    "drop_features(train_data_click)\n",
    "drop_features(val_data_click)\n",
    "drop_features(test_data_click)\n",
    "\n",
    "x_train_clicks, y_train = pandas_to_numpy(train_data_click)\n",
    "x_val_clicks, y_val = pandas_to_numpy(val_data_click)\n",
    "x_test_clicks, y_test = pandas_to_numpy(test_data_click)\n"
   ]
  },
  {
   "cell_type": "markdown",
   "metadata": {},
   "source": [
    "### Data Input Shapes"
   ]
  },
  {
   "cell_type": "code",
   "execution_count": 34,
   "metadata": {},
   "outputs": [
    {
     "name": "stdout",
     "output_type": "stream",
     "text": [
      "input_shape 6\n"
     ]
    }
   ],
   "source": [
    "input_shape = x_train_clicks.shape[1]\n",
    "print(\"input_shape\", input_shape)\n",
    "output_shape = 1\n",
    "\n",
    "# targets_________________________________________________\n",
    "\n",
    "# clicks\n",
    "y_train_clicks = np.reshape(y_train[:,0], (y_train.shape[0], 1))  # get first column (clicks)\n",
    "y_val_clicks = np.reshape(y_val[:,0], (y_val.shape[0], 1))  # get first column (clicks)"
   ]
  },
  {
   "cell_type": "markdown",
   "metadata": {},
   "source": [
    "### Scale Data"
   ]
  },
  {
   "cell_type": "code",
   "execution_count": 35,
   "metadata": {},
   "outputs": [],
   "source": [
    "def scale_data(x_train, x_val, x_test):\n",
    "    \n",
    "    # normalize the data attributes\n",
    "    from sklearn import preprocessing\n",
    "    from sklearn.preprocessing import MinMaxScaler\n",
    "\n",
    "    #normalized_X = preprocessing.normalize(x_train)\n",
    "\n",
    "\n",
    "\n",
    "    ## features\n",
    "    feature_scaler = MinMaxScaler(feature_range=(0, 1))\n",
    "    feature_scaler.fit(np.concatenate((x_train, x_val, x_test), axis = 0))       \n",
    "\n",
    "    x_train = feature_scaler.transform(x_train)\n",
    "    x_val = feature_scaler.transform(x_val)\n",
    "    x_test = feature_scaler.transform(x_test)\n",
    "    \n",
    "    return x_train, x_val, x_test\n",
    "\n",
    "    ## Targets________________________________________\n",
    "\n",
    "    # payprice\n",
    "    #payprice_scaler = MinMaxScaler(feature_range=(0, 1))\n",
    "    #payprice_scaler.fit(np.concatenate((y_train_payprice, y_val_payprice), axis = 0))   \n",
    "\n",
    "    #y_train_payprice = payprice_scaler.transform(y_train_payprice)\n",
    "    #y_val_payprice = payprice_scaler.transform(y_val_payprice)\n",
    "\n",
    "#x_train, x_val, x_test = scale_data(x_train, x_val, x_test)"
   ]
  },
  {
   "cell_type": "markdown",
   "metadata": {},
   "source": [
    "# Model - Neural Networks\n",
    "\n",
    "## \"Click\" - Binary Classification\n",
    "\n",
    "Train Baseline Accuracy \"Clicks\": 0.9992618932746251%\n",
    "#of 0:    2429188     # of 1:       1793\n",
    "\n",
    "\n",
    "Val Baseline Accuracy \"Clicks\": 0.9993349203056733%\n",
    "#of 0:    303723     # of 1:       202\n",
    "\n",
    "Average CTR:\n",
    "\n",
    "1793 / 2429188 \n"
   ]
  },
  {
   "cell_type": "markdown",
   "metadata": {},
   "source": [
    "## Upsampling\n",
    "\n",
    "sample up \"1\"s for more balanced classification\n",
    "\n",
    "--> default accuracy: 50%"
   ]
  },
  {
   "cell_type": "code",
   "execution_count": 36,
   "metadata": {},
   "outputs": [],
   "source": [
    "def upsampling(x, y):\n",
    "\n",
    "    xy = np.concatenate((x, y), axis = 1)\n",
    "\n",
    "    zeros = xy[xy[:,-1] == 0]\n",
    "    ones = xy[xy[:,-1] == 1]\n",
    "\n",
    "    ones_upsampled = np.repeat(ones, math.ceil(len(zeros)/len(ones)), axis=0)\n",
    "\n",
    "    # cut at length of zeros.shape 2429188\n",
    "    ones_upsampled = ones_upsampled[:zeros.shape[0]]\n",
    "\n",
    "    xy_upsampled  = np.concatenate((ones_upsampled, zeros), axis = 0) # combine\n",
    "    np.random.shuffle(xy_upsampled)                                   # shuffle\n",
    "\n",
    "    x_upsampled = xy_upsampled[:,:-1]   # features\n",
    "    y_upsampled = xy_upsampled[:,-1:]   # targets\n",
    "    \n",
    "    return x_upsampled, y_upsampled\n",
    "\n",
    "\n",
    "#x_train_up, y_train_clicks_up = upsampling(x_train, y_train_clicks)"
   ]
  },
  {
   "cell_type": "markdown",
   "metadata": {},
   "source": [
    "### Integer / Categorical One-Hot Encoding"
   ]
  },
  {
   "cell_type": "code",
   "execution_count": 37,
   "metadata": {},
   "outputs": [],
   "source": [
    "#y_train_clicks_up = keras.utils.to_categorical(y_train_clicks_up, 2)\n",
    "#y_val_clicks = keras.utils.to_categorical(y_val_clicks, 2)\n",
    "\n",
    "#y_train_clicks_up = y_train_clicks_up.astype(int)\n",
    "#y_val_clicks = y_val_clicks.astype(int)"
   ]
  },
  {
   "cell_type": "markdown",
   "metadata": {},
   "source": [
    "# Logistic Regression - \"Clicks\""
   ]
  },
  {
   "cell_type": "code",
   "execution_count": 63,
   "metadata": {},
   "outputs": [
    {
     "name": "stdout",
     "output_type": "stream",
     "text": [
      "[LibLinear]"
     ]
    },
    {
     "ename": "NameError",
     "evalue": "name 'train_data_clicks' is not defined",
     "output_type": "error",
     "traceback": [
      "\u001b[0;31m---------------------------------------------------------------------------\u001b[0m",
      "\u001b[0;31mNameError\u001b[0m                                 Traceback (most recent call last)",
      "\u001b[0;32m<ipython-input-63-9cda57fb02f3>\u001b[0m in \u001b[0;36m<module>\u001b[0;34m\u001b[0m\n\u001b[1;32m      5\u001b[0m \u001b[0mlog_regression\u001b[0m \u001b[0;34m=\u001b[0m \u001b[0mLogisticRegression\u001b[0m\u001b[0;34m(\u001b[0m\u001b[0mclass_weight\u001b[0m\u001b[0;34m=\u001b[0m\u001b[0mclass_weight\u001b[0m\u001b[0;34m,\u001b[0m  \u001b[0mC\u001b[0m\u001b[0;34m=\u001b[0m\u001b[0;36m1.0\u001b[0m\u001b[0;34m,\u001b[0m \u001b[0mpenalty\u001b[0m \u001b[0;34m=\u001b[0m \u001b[0;34m'l2'\u001b[0m\u001b[0;34m,\u001b[0m \u001b[0mverbose\u001b[0m\u001b[0;34m=\u001b[0m\u001b[0;36m10\u001b[0m\u001b[0;34m)\u001b[0m\u001b[0;34m.\u001b[0m\u001b[0mfit\u001b[0m\u001b[0;34m(\u001b[0m\u001b[0mx_train_clicks\u001b[0m\u001b[0;34m,\u001b[0m \u001b[0my_train_clicks\u001b[0m\u001b[0;34m)\u001b[0m\u001b[0;34m\u001b[0m\u001b[0m\n\u001b[1;32m      6\u001b[0m \u001b[0;31m## model coefficients\u001b[0m\u001b[0;34m\u001b[0m\u001b[0;34m\u001b[0m\u001b[0m\n\u001b[0;32m----> 7\u001b[0;31m \u001b[0mprint\u001b[0m\u001b[0;34m(\u001b[0m\u001b[0mtrain_data_clicks\u001b[0m\u001b[0;34m.\u001b[0m\u001b[0mdata_features\u001b[0m\u001b[0;34m.\u001b[0m\u001b[0mcolumns\u001b[0m\u001b[0;34m)\u001b[0m\u001b[0;34m\u001b[0m\u001b[0m\n\u001b[0m\u001b[1;32m      8\u001b[0m \u001b[0mprint\u001b[0m\u001b[0;34m(\u001b[0m\u001b[0mlog_regression\u001b[0m\u001b[0;34m.\u001b[0m\u001b[0mcoef_\u001b[0m\u001b[0;34m)\u001b[0m\u001b[0;34m\u001b[0m\u001b[0m\n\u001b[1;32m      9\u001b[0m \u001b[0;34m\u001b[0m\u001b[0m\n",
      "\u001b[0;31mNameError\u001b[0m: name 'train_data_clicks' is not defined"
     ]
    }
   ],
   "source": [
    "from sklearn.linear_model import LogisticRegression\n",
    "\n",
    "class_weight = {0: 0.5, 1: 0.5}#{0: (1793 / 2429188), 1: (1-(1793 / 2429188))}#{0: 0.5, 1: 0.5}\n",
    "\n",
    "log_regression = LogisticRegression(class_weight=class_weight,  C=1.0, penalty = 'l2', verbose=10).fit(x_train_clicks, y_train_clicks)\n",
    "## model coefficients\n",
    "print(train_data_clicks.data_features.columns)\n",
    "print(log_regression.coef_)\n",
    "\n",
    "print(\"\\n-- logistic regression completed --\")"
   ]
  },
  {
   "cell_type": "markdown",
   "metadata": {},
   "source": [
    "### Prediction"
   ]
  },
  {
   "cell_type": "code",
   "execution_count": 40,
   "metadata": {},
   "outputs": [
    {
     "name": "stdout",
     "output_type": "stream",
     "text": [
      "1    243580\n",
      "0     60345\n",
      "Name: click, dtype: int64\n",
      "Accuracy of logistic regression classifier on test set: 0.20\n",
      "\n",
      "F1_score: 0.3311254130081107\n",
      "Accuracy: 0.19902607551205068 \n",
      "\n"
     ]
    }
   ],
   "source": [
    "# USE PREDICTION DIRECTLY________________________________________\n",
    "\n",
    "def click_prediction(log_regression, features, labels = None):\n",
    "\n",
    "    click_predictions = log_regression.predict(features)\n",
    "    click_predictions_df = pd.DataFrame(click_predictions, columns= ['click'])\n",
    "    print(click_predictions_df['click'].value_counts())\n",
    "\n",
    "\n",
    "    if labels is not None:\n",
    "        \n",
    "        print('Accuracy of logistic regression classifier on test set: {:.2f}'.format(log_regression.score(features, labels)))\n",
    "\n",
    "        from sklearn import metrics\n",
    "        print(\"\\nF1_score:\", metrics.f1_score(labels, click_predictions, average='weighted'))\n",
    "        print(\"Accuracy:\", metrics.accuracy_score(labels, click_predictions), \"\\n\")\n",
    "\n",
    "    return click_predictions\n",
    "\n",
    "\n",
    "\n",
    "# USE PREDICTION PROBABILITY________________________________________\n",
    "\n",
    "def click_prob_prediction(log_regression, click_thres_prob, return_binary, features, labels = None):\n",
    "\n",
    "    \n",
    "    click_predictions_prob = log_regression.predict_proba(features)\n",
    "\n",
    "    \n",
    "    if return_binary == False:\n",
    "        \n",
    "        return click_predictions_prob\n",
    "    \n",
    "    if return_binary == True:\n",
    "\n",
    "        click_prob_decision = list()\n",
    "\n",
    "        for pred in click_predictions_prob:\n",
    "            if pred[1] > click_thres_prob:\n",
    "                click_prob_decision.append(int(1.0))\n",
    "            else:\n",
    "                click_prob_decision.append(int(0.0))\n",
    "\n",
    "        click_predictions_prob_df = pd.DataFrame(click_prob_decision, columns= ['click'])\n",
    "        print(click_predictions_prob_df['click'].value_counts())\n",
    "\n",
    "        if labels is not None:\n",
    "\n",
    "            from sklearn import metrics\n",
    "            print(\"\\nF1_score:\", metrics.f1_score(labels, click_prob_decision, average='weighted'))\n",
    "            print(\"Accuracy:\", metrics.accuracy_score(labels, click_prob_decision), \"\\n\")\n",
    "\n",
    "        return click_prob_decision \n",
    "\n",
    "\n",
    "\n",
    "click_thres_prob = 0.5\n",
    "return_binary = False\n",
    "\n",
    "click_predictions = click_prediction(log_regression, x_val_clicks, y_val_clicks)\n",
    "#click_predictions = click_prob_prediction(log_regression, click_thres_prob, return_binary, x_val, y_val_clicks)"
   ]
  },
  {
   "cell_type": "markdown",
   "metadata": {},
   "source": [
    "# Linear Regression - \"Payprice\""
   ]
  },
  {
   "cell_type": "markdown",
   "metadata": {},
   "source": [
    "## Data Loader"
   ]
  },
  {
   "cell_type": "code",
   "execution_count": 41,
   "metadata": {},
   "outputs": [
    {
     "name": "stdout",
     "output_type": "stream",
     "text": [
      "input_shape 6\n"
     ]
    }
   ],
   "source": [
    "train_data_payprice = copy.deepcopy(train_data)\n",
    "val_data_payprice = copy.deepcopy(val_data)\n",
    "test_data_payprice = copy.deepcopy(test_data)\n",
    "\n",
    "\n",
    "def pandas_to_numpy(data):\n",
    "\n",
    "    ## features\n",
    "    features = np.asarray(data.data_features.values)\n",
    "\n",
    "    ## targets\n",
    "    if hasattr(data, \"data_targets\"):\n",
    "        labels = np.asarray(data.data_targets.values)\n",
    "        \n",
    "    return features, labels\n",
    "\n",
    "\n",
    "## drop unnecessary features\n",
    "def drop_features(data):\n",
    "    \n",
    "    keep_features = [\"adexchange\", \"domain\", \"slotwidth\", \"slotheight\", \"slotformat\", \"slotprice\"]\n",
    "    for f in data.data_features:\n",
    "        if f not in keep_features:\n",
    "            data.data_features.drop(f, axis=1, inplace = True)\n",
    "    \n",
    "\n",
    "drop_features(train_data_payprice)\n",
    "drop_features(val_data_payprice)\n",
    "drop_features(test_data_payprice)\n",
    "\n",
    "x_train_payprice, y_train = pandas_to_numpy(train_data_payprice)\n",
    "x_val_payprice, y_val = pandas_to_numpy(val_data_payprice)\n",
    "x_test_payprice, y_test = pandas_to_numpy(test_data_payprice)\n",
    "\n",
    "\n",
    "input_shape = x_train_payprice.shape[1]\n",
    "print(\"input_shape\", input_shape)\n",
    "output_shape = 1\n",
    "\n",
    "# payprice\n",
    "y_train_payprice = np.reshape(y_train[:,2], (y_train.shape[0], 1))  # get third column (payprice)\n",
    "y_val_payprice = np.reshape(y_val[:,2], (y_val.shape[0], 1))  # get third column (payprice)\n"
   ]
  },
  {
   "cell_type": "code",
   "execution_count": 43,
   "metadata": {},
   "outputs": [
    {
     "name": "stdout",
     "output_type": "stream",
     "text": [
      "Index(['adexchange', 'domain', 'slotwidth', 'slotheight', 'slotformat',\n",
      "       'slotprice'],\n",
      "      dtype='object')\n",
      "[[-9.49636406e+00  9.49156433e-04 -1.99829419e-02 -1.34565218e-02\n",
      "   1.29929560e+01  5.63191752e-01]]\n",
      "\n",
      "-- linear regression completed --\n"
     ]
    }
   ],
   "source": [
    "from sklearn.linear_model import LinearRegression\n",
    "\n",
    "lin_regression = LinearRegression(normalize = True).fit(x_train_payprice, y_train_payprice)\n",
    "\n",
    "## model coefficients\n",
    "print(train_data_payprice.data_features.columns)\n",
    "print(lin_regression.coef_)\n",
    "\n",
    "print(\"\\n-- linear regression completed --\")"
   ]
  },
  {
   "cell_type": "markdown",
   "metadata": {},
   "source": [
    "### Prediction"
   ]
  },
  {
   "cell_type": "code",
   "execution_count": 44,
   "metadata": {},
   "outputs": [
    {
     "name": "stdout",
     "output_type": "stream",
     "text": [
      "Accuracy of logistic regression classifier on test set: 0.11\n",
      "\n",
      "Mean Squared Error: 3215.034565779497 \n",
      "\n"
     ]
    }
   ],
   "source": [
    "# USE PREDICTION DIRECTLY________________________________________\n",
    "\n",
    "def payprice_prediction(lin_regression, features, labels = None):\n",
    "\n",
    "    payprice_predictions = lin_regression.predict(x_val_payprice)\n",
    "    payprice_predictions_df = pd.DataFrame(payprice_predictions, columns= ['payprice'])\n",
    "    #print(payprice_predictions_df)\n",
    "    \n",
    "    if labels is not None:\n",
    "        \n",
    "        print('Accuracy of logistic regression classifier on test set: {:.2f}'.format(lin_regression.score(features, labels)))\n",
    "\n",
    "        from sklearn import metrics\n",
    "        print(\"\\nMean Squared Error:\", metrics.mean_squared_error(labels, payprice_predictions), \"\\n\")\n",
    "\n",
    "    return payprice_predictions\n",
    "\n",
    "payprice_predictions = payprice_prediction(lin_regression, x_val_payprice, y_val_payprice)"
   ]
  },
  {
   "cell_type": "markdown",
   "metadata": {},
   "source": [
    "# Make Bidding"
   ]
  },
  {
   "cell_type": "markdown",
   "metadata": {},
   "source": [
    "## Predict Clicks and Payprice"
   ]
  },
  {
   "cell_type": "code",
   "execution_count": 45,
   "metadata": {},
   "outputs": [
    {
     "name": "stdout",
     "output_type": "stream",
     "text": [
      "click prediction\n",
      "payprice prediction\n",
      "Accuracy of logistic regression classifier on test set: 0.11\n",
      "\n",
      "Mean Squared Error: 3215.034565779497 \n",
      "\n"
     ]
    }
   ],
   "source": [
    "pick_data = \"val\"\n",
    "\n",
    "\n",
    "def predict_clicks_payprice(click_thres_prob, return_binary):\n",
    "\n",
    "    # VAL______________\n",
    "\n",
    "    if pick_data == \"val\":\n",
    "\n",
    "        ## CLICKS___________\n",
    "\n",
    "        #y_val_clicks\n",
    "\n",
    "        print(\"click prediction\")\n",
    "        #click_predictions = click_prediction(log_regression, x_val, y_val_clicks)\n",
    "        click_predictions = click_prob_prediction(log_regression, click_thres_prob, return_binary, x_val_clicks, y_val_clicks)\n",
    "\n",
    "        ## PAYPRICE___________\n",
    "\n",
    "        #y_val_payprice\n",
    "        print(\"payprice prediction\")\n",
    "        payprice_predictions = payprice_prediction(lin_regression, x_val_payprice, y_val_payprice)\n",
    "\n",
    "\n",
    "\n",
    "    # TEST______________\n",
    "\n",
    "    if pick_data == \"test\": \n",
    "\n",
    "\n",
    "        ## CLICKS___________\n",
    "\n",
    "        #y_val_clicks\n",
    "\n",
    "        print(\"click prediction\")\n",
    "        #click_predictions = click_prediction(log_regression, x_test)\n",
    "        click_predictions = click_prob_prediction(log_regression, click_thres_prob, return_binary, x_test)\n",
    "\n",
    "        ## PAYPRICE___________\n",
    "\n",
    "        #y_val_payprice\n",
    "\n",
    "        print(\"payprice prediction\")\n",
    "        payprice_predictions = payprice_prediction(lin_regression, x_test)\n",
    "        \n",
    "    return click_predictions, payprice_predictions\n",
    "\n",
    "\n",
    "click_predictions, payprice_predictions = predict_clicks_payprice(click_thres_prob = 0.5, return_binary = False)\n",
    "\n",
    "#print(payprice_predictions[0:20])"
   ]
  },
  {
   "cell_type": "markdown",
   "metadata": {},
   "source": [
    "## Make Bidding Decision"
   ]
  },
  {
   "cell_type": "code",
   "execution_count": 53,
   "metadata": {},
   "outputs": [],
   "source": [
    "def set_bids(click_predictions, payprice_predictions, base_bid, averageCTR, click_predict_weight = None):\n",
    "    \n",
    "    budget = 6250000\n",
    "    bids = np.zeros((len(click_predictions)))\n",
    "\n",
    "## 1.) Only bid for expected clicks!\n",
    "\n",
    "    predicted_clicks = 0\n",
    "    spend_on_clicks = 0\n",
    "    \n",
    "    for p in range(0, len(bids)):\n",
    "\n",
    "        #if click_predictions[p] == 1:\n",
    "            \n",
    "        predicted_clicks += 1\n",
    "\n",
    "        bid_price = base_bid * click_predictions[p,1] / np.mean(click_predictions[:,1]) #+ click_predict_weight * (click_predictions[p][1]) #/ averageCTR\n",
    "        #bid_price = math.floor(payprice_predictions[p]) + 2 #np.random.randint(10,10)\n",
    "        #bid_price = 72\n",
    "        spend_on_clicks += bid_price\n",
    "\n",
    "        bids[p] = bid_price\n",
    "        #bids[p] = 71\n",
    "            \n",
    "    print(\"\\npredicted_clicks:\", predicted_clicks)\n",
    "    print(\"spent_on_clicks:\", spend_on_clicks)\n",
    "    print(\"average_spent:\", spend_on_clicks / predicted_clicks, \"\\n\")\n",
    "    \n",
    "    return bids\n",
    "\n",
    "\n",
    "\n",
    "\n",
    "def adjust_bidprices(bids, payprice_predictions):\n",
    "    \n",
    "    ## 2.) Prefer cheap payprice predictions\n",
    "    \n",
    "    budget = 6250000\n",
    "    planned_bid_amount = sum(bids)\n",
    "    exceed_budget = 1000\n",
    "    n_bids = len(bids[np.where(bids > 0)])\n",
    "\n",
    "    \n",
    "    ## (1) spend too much_______________________\n",
    "    \n",
    "    if planned_bid_amount - budget > 0:\n",
    "        \n",
    "        print(\"-- spend too much:\", planned_bid_amount - budget)\n",
    "        \n",
    "        while (planned_bid_amount - budget > exceed_budget):\n",
    "\n",
    "            #print(round(np.mean(bids)))\n",
    "            #print(budget - planned_bid_amount)\n",
    "            index, = list(np.where(bids == max(bids)))    # find expensive bids\n",
    "            bids[index] = max(bids) - 1                   # set expensive bid lower\n",
    "            planned_bid_amount = sum(bids)                # check new bidding amount\n",
    "\n",
    "    \n",
    "    ## (2) spend too little______________________\n",
    "\n",
    "    else:\n",
    "        \n",
    "        print(\"-- spend too little:\", budget - planned_bid_amount)\n",
    "        \n",
    "        #fill_bid_price = math.floor(np.mean(bids))\n",
    "        fill_bid_price = 70\n",
    "        \n",
    "        while (budget - planned_bid_amount >  (-exceed_budget)):\n",
    "\n",
    "            #print(round(np.mean(bids)))\n",
    "            #print(budget - planned_bid_amount)\n",
    "            index, = list(np.where(bids == 0)) \n",
    "            index = random.sample(list(index), 100)\n",
    "            bids[index] = fill_bid_price            \n",
    "            planned_bid_amount = sum(bids)                \n",
    "\n",
    "\n",
    "    n_bids = len(bids[np.where(bids > 0)])  \n",
    "    print(\"\\nplanned_bid_amount:\", sum(bids), \", difference to budget:\", (budget - sum(bids)), \n",
    "              \", number of bids:\", n_bids, \", average bidprice:\",round(np.mean(bids[np.where(bids > 0)])))\n",
    "    \n",
    "    return bids\n",
    "\n",
    "    "
   ]
  },
  {
   "cell_type": "code",
   "execution_count": 54,
   "metadata": {},
   "outputs": [
    {
     "name": "stdout",
     "output_type": "stream",
     "text": [
      "\n",
      "predicted_clicks: 303925\n",
      "spent_on_clicks: 21274750.00000019\n",
      "average_spent: 70.00000000000063 \n",
      "\n",
      "-- spend too much: 15024750.00000019\n"
     ]
    },
    {
     "ename": "KeyboardInterrupt",
     "evalue": "",
     "output_type": "error",
     "traceback": [
      "\u001b[0;31m---------------------------------------------------------------------------\u001b[0m",
      "\u001b[0;31mKeyboardInterrupt\u001b[0m                         Traceback (most recent call last)",
      "\u001b[0;32m<ipython-input-54-35bd6e36bbec>\u001b[0m in \u001b[0;36m<module>\u001b[0;34m\u001b[0m\n\u001b[1;32m      3\u001b[0m \u001b[0;34m\u001b[0m\u001b[0m\n\u001b[1;32m      4\u001b[0m \u001b[0mbid_decisions\u001b[0m \u001b[0;34m=\u001b[0m \u001b[0mset_bids\u001b[0m\u001b[0;34m(\u001b[0m\u001b[0mclick_predictions\u001b[0m\u001b[0;34m,\u001b[0m \u001b[0mpayprice_predictions\u001b[0m\u001b[0;34m,\u001b[0m \u001b[0mbase_bid\u001b[0m\u001b[0;34m,\u001b[0m \u001b[0maverageCTR\u001b[0m\u001b[0;34m)\u001b[0m\u001b[0;34m\u001b[0m\u001b[0m\n\u001b[0;32m----> 5\u001b[0;31m \u001b[0mbids\u001b[0m \u001b[0;34m=\u001b[0m \u001b[0madjust_bidprices\u001b[0m\u001b[0;34m(\u001b[0m\u001b[0mbid_decisions\u001b[0m\u001b[0;34m,\u001b[0m \u001b[0mpayprice_predictions\u001b[0m\u001b[0;34m)\u001b[0m\u001b[0;34m\u001b[0m\u001b[0m\n\u001b[0m",
      "\u001b[0;32m<ipython-input-53-3e9adf80a8db>\u001b[0m in \u001b[0;36madjust_bidprices\u001b[0;34m(bids, payprice_predictions)\u001b[0m\n\u001b[1;32m     55\u001b[0m             \u001b[0mindex\u001b[0m\u001b[0;34m,\u001b[0m \u001b[0;34m=\u001b[0m \u001b[0mlist\u001b[0m\u001b[0;34m(\u001b[0m\u001b[0mnp\u001b[0m\u001b[0;34m.\u001b[0m\u001b[0mwhere\u001b[0m\u001b[0;34m(\u001b[0m\u001b[0mbids\u001b[0m \u001b[0;34m==\u001b[0m \u001b[0mmax\u001b[0m\u001b[0;34m(\u001b[0m\u001b[0mbids\u001b[0m\u001b[0;34m)\u001b[0m\u001b[0;34m)\u001b[0m\u001b[0;34m)\u001b[0m    \u001b[0;31m# find expensive bids\u001b[0m\u001b[0;34m\u001b[0m\u001b[0m\n\u001b[1;32m     56\u001b[0m             \u001b[0mbids\u001b[0m\u001b[0;34m[\u001b[0m\u001b[0mindex\u001b[0m\u001b[0;34m]\u001b[0m \u001b[0;34m=\u001b[0m \u001b[0mmax\u001b[0m\u001b[0;34m(\u001b[0m\u001b[0mbids\u001b[0m\u001b[0;34m)\u001b[0m \u001b[0;34m-\u001b[0m \u001b[0;36m1\u001b[0m                   \u001b[0;31m# set expensive bid lower\u001b[0m\u001b[0;34m\u001b[0m\u001b[0m\n\u001b[0;32m---> 57\u001b[0;31m             \u001b[0mplanned_bid_amount\u001b[0m \u001b[0;34m=\u001b[0m \u001b[0msum\u001b[0m\u001b[0;34m(\u001b[0m\u001b[0mbids\u001b[0m\u001b[0;34m)\u001b[0m                \u001b[0;31m# check new bidding amount\u001b[0m\u001b[0;34m\u001b[0m\u001b[0m\n\u001b[0m\u001b[1;32m     58\u001b[0m \u001b[0;34m\u001b[0m\u001b[0m\n\u001b[1;32m     59\u001b[0m \u001b[0;34m\u001b[0m\u001b[0m\n",
      "\u001b[0;31mKeyboardInterrupt\u001b[0m: "
     ]
    }
   ],
   "source": [
    "base_bid = 70\n",
    "averageCTR = 1793 / 2429188 \n",
    "\n",
    "bid_decisions = set_bids(click_predictions, payprice_predictions, base_bid, averageCTR)\n",
    "bids = adjust_bidprices(bid_decisions, payprice_predictions)"
   ]
  },
  {
   "cell_type": "markdown",
   "metadata": {},
   "source": [
    "## Test Decision in Auction"
   ]
  },
  {
   "cell_type": "code",
   "execution_count": 55,
   "metadata": {},
   "outputs": [],
   "source": [
    "data_path = os.path.abspath(os.pardir + '/Data/validation.csv')\n",
    "df = pd.read_csv(data_path, na_values=['Na', 'null']).fillna(0)"
   ]
  },
  {
   "cell_type": "code",
   "execution_count": 56,
   "metadata": {},
   "outputs": [
    {
     "ename": "NameError",
     "evalue": "name 'bids' is not defined",
     "output_type": "error",
     "traceback": [
      "\u001b[0;31m---------------------------------------------------------------------------\u001b[0m",
      "\u001b[0;31mNameError\u001b[0m                                 Traceback (most recent call last)",
      "\u001b[0;32m<ipython-input-56-3f1adfb758d0>\u001b[0m in \u001b[0;36m<module>\u001b[0;34m\u001b[0m\n\u001b[1;32m     65\u001b[0m \u001b[0;34m\u001b[0m\u001b[0m\n\u001b[1;32m     66\u001b[0m \u001b[0;34m\u001b[0m\u001b[0m\n\u001b[0;32m---> 67\u001b[0;31m \u001b[0msimulate_auction\u001b[0m\u001b[0;34m(\u001b[0m\u001b[0mbids\u001b[0m\u001b[0;34m)\u001b[0m\u001b[0;34m\u001b[0m\u001b[0m\n\u001b[0m",
      "\u001b[0;31mNameError\u001b[0m: name 'bids' is not defined"
     ]
    }
   ],
   "source": [
    "\n",
    "def simulate_auction(bids):\n",
    "\n",
    "    if pick_data == \"val\": \n",
    "\n",
    "        budget = 6250000\n",
    "\n",
    "        ## Evaluation Stats_____________\n",
    "\n",
    "        bids_won = 0\n",
    "        earned_clicks = 0\n",
    "        ctr = 0                  # bids_won / earned_clicks\n",
    "        total_paid = 0\n",
    "        cpc = 0                  # cost per click\n",
    "\n",
    "\n",
    "        for index, row in df.iterrows():\n",
    "\n",
    "            if bids[index] > budget: # check if budget is sufficient for bidprice\n",
    "                bids[index] = budget\n",
    "                #print(\"constant bid reduced to:\", constant_bid, \", total_paid:\", total_paid, \", bids_won:\", bids_won, \", earned clicks:\", earned_clicks, \"\\n\")\n",
    "\n",
    "            if budget <= 0:\n",
    "                print(\"-- break after auction #\", index)\n",
    "                break\n",
    "\n",
    "            # WON BID ______________________________________________\n",
    "\n",
    "            if bids[index] >= row['payprice']:     \n",
    "\n",
    "                bids_won += 1                        # won the bid\n",
    "                total_paid += row['payprice']        # add amount to total_paid   \n",
    "                budget = budget - row['payprice']    # substract money from budget\n",
    "\n",
    "                #if constant_bid == row['bidprice']:      \n",
    "                    #budget = budget - row['payprice']    # substract money from budget\n",
    "\n",
    "                #elif constant_bid > row['bidprice']:\n",
    "                #    budget = budget - row['bidprice']    # substract money from budget\n",
    "\n",
    "                # CLICK = 1 ______________________________________________\n",
    "\n",
    "                if row['click'] == 1:    # only reduce money from budget if ad has been clicked\n",
    "\n",
    "                        earned_clicks += 1                   # earn the click\n",
    "                        #print(\"current budget:\", budget, \", earned clicks:\", earned_clicks, \"\\n\")\n",
    "\n",
    "            if index%100000 == 0:\n",
    "                print(\"bid#\", index, \", budget:\", budget, \", payprice:\", row['payprice'], \", bids_won:\", bids_won, \", earned_clicks:\", earned_clicks, \"\\n\")\n",
    "\n",
    "\n",
    "\n",
    "        print(\"__________________________________\\n\")\n",
    "\n",
    "        if earned_clicks > 0:\n",
    "            cpc = total_paid / earned_clicks\n",
    "        if bids_won > 0:\n",
    "            ctr = earned_clicks / bids_won\n",
    "\n",
    "        print(\"left budget:\", budget)\n",
    "        print(\"bids_won:\", bids_won)\n",
    "        print(\"earned clicks:\", earned_clicks)\n",
    "        print(\"CTR:\", ctr)\n",
    "        print(\"cost per click:\", cpc)\n",
    "\n",
    "        \n",
    "simulate_auction(bids)"
   ]
  },
  {
   "cell_type": "markdown",
   "metadata": {},
   "source": [
    "# Simulate Auctions"
   ]
  },
  {
   "cell_type": "code",
   "execution_count": 62,
   "metadata": {},
   "outputs": [
    {
     "name": "stdout",
     "output_type": "stream",
     "text": [
      "\n",
      "\n",
      "\n",
      "_________________________________________\n",
      "\n",
      "PARAMETER: base_bid 70\n",
      "click prediction\n",
      "payprice prediction\n",
      "Accuracy of logistic regression classifier on test set: 0.11\n",
      "\n",
      "Mean Squared Error: 3215.034565779497 \n",
      "\n",
      "\n",
      "predicted_clicks: 303925\n",
      "spent_on_clicks: 21274750.00000019\n",
      "average_spent: 70.00000000000063 \n",
      "\n",
      "bid# 0 , budget: 6249977 , payprice: 23 , bids_won: 1 , earned_clicks: 0 \n",
      "\n",
      "bid# 100000 , budget: 4141027 , payprice: 63 , bids_won: 54977 , earned_clicks: 26 \n",
      "\n",
      "bid# 200000 , budget: 2024727 , payprice: 196 , bids_won: 110128 , earned_clicks: 52 \n",
      "\n",
      "-- break after auction # 297159\n",
      "__________________________________\n",
      "\n",
      "left budget: 0\n",
      "bids_won: 162883\n",
      "earned clicks: 76\n",
      "CTR: 0.0004665925848615264\n",
      "cost per click: 82236.84210526316\n",
      "_________________________________________\n",
      "\n",
      "\n",
      "\n"
     ]
    }
   ],
   "source": [
    "averageCTR = 1793 / 2429188 \n",
    "\n",
    "#for click_thres_prob in [0.8]:\n",
    "for base_bid in [70]:\n",
    "    #for click_predict_weight in [120.5]:\n",
    "\n",
    "    print(\"\\n\\n\\n_________________________________________\\n\")\n",
    "    print(\"PARAMETER: base_bid\", base_bid)#, \"click_predict_weight\", click_predict_weight, \"click_thres_prob\", click_thres_prob,\"\\n\")\n",
    "\n",
    "    click_predictions, payprice_predictions = predict_clicks_payprice(click_thres_prob, return_binary = False)\n",
    "    bid_decisions = set_bids(click_predictions, payprice_predictions, base_bid, averageCTR)\n",
    "    #bids = adjust_bidprices(bid_decisions, budget, payprice_predictions)\n",
    "    simulate_auction(bid_decisions)\n",
    "\n",
    "    print(\"_________________________________________\\n\\n\\n\")\n",
    "\n"
   ]
  },
  {
   "cell_type": "markdown",
   "metadata": {},
   "source": [
    "## CSV Submission"
   ]
  },
  {
   "cell_type": "code",
   "execution_count": null,
   "metadata": {},
   "outputs": [],
   "source": [
    "data_path_test = os.path.abspath(os.pardir + '/Data/test.csv')\n",
    "df_test = pd.read_csv(data_path_test, na_values=['Na', 'null']).fillna(0)\n"
   ]
  },
  {
   "cell_type": "code",
   "execution_count": null,
   "metadata": {},
   "outputs": [],
   "source": [
    "bidprice_series = pd.Series(data = bids, name='bidprice')\n",
    "submission_df = pd.DataFrame({'bidid': df_test['bidid'],'bidprice':bidprice_series})\n",
    "\n",
    "# Group Token: QQri5ISZz4Kn\n",
    "submission_df.to_csv('testing_bidding_price.csv', index = False)\n"
   ]
  },
  {
   "cell_type": "code",
   "execution_count": null,
   "metadata": {},
   "outputs": [],
   "source": []
  }
 ],
 "metadata": {
  "kernelspec": {
   "display_name": "Python 3",
   "language": "python",
   "name": "python3"
  },
  "language_info": {
   "codemirror_mode": {
    "name": "ipython",
    "version": 3
   },
   "file_extension": ".py",
   "mimetype": "text/x-python",
   "name": "python",
   "nbconvert_exporter": "python",
   "pygments_lexer": "ipython3",
   "version": "3.7.0"
  }
 },
 "nbformat": 4,
 "nbformat_minor": 2
}
