{
 "cells": [
  {
   "cell_type": "markdown",
   "metadata": {},
   "source": [
    "# Evolutionary Bidding Agent"
   ]
  },
  {
   "cell_type": "markdown",
   "metadata": {},
   "source": [
    "## Enviroment"
   ]
  },
  {
   "cell_type": "code",
   "execution_count": 1,
   "metadata": {},
   "outputs": [],
   "source": [
    "import os\n",
    "import pandas as pd\n",
    "import numpy as np\n",
    "import matplotlib.pylab as plt\n",
    "import random\n",
    "import math\n",
    "import copy\n",
    "\n",
    "import sys\n",
    "sys.path.append('../')\n",
    "\n",
    "from Preprocessing import preprocessing\n",
    "from Preprocessing.single_set import SingleSet"
   ]
  },
  {
   "cell_type": "markdown",
   "metadata": {},
   "source": [
    "## Data Preprocessing\n",
    "\n",
    "Features: data.data_features\n",
    "Targets: data.data_targets (click, bidprice, payprice)"
   ]
  },
  {
   "cell_type": "code",
   "execution_count": 2,
   "metadata": {},
   "outputs": [
    {
     "name": "stdout",
     "output_type": "stream",
     "text": [
      "-- data loaded --\n",
      "-- data loaded --\n",
      "-- data loaded --\n"
     ]
    }
   ],
   "source": [
    "train_data_path = '/Data/train.csv'\n",
    "train_data = SingleSet(relative_path=train_data_path,use_numerical_labels=True)\n",
    "\n",
    "val_data_path = '/Data/validation.csv'\n",
    "val_data = SingleSet(relative_path=val_data_path,use_numerical_labels=True)\n",
    "\n",
    "test_data_path = '/Data/test.csv'\n",
    "test_data = SingleSet(relative_path=test_data_path,use_numerical_labels=True)"
   ]
  },
  {
   "cell_type": "markdown",
   "metadata": {},
   "source": [
    "## Clicks Data"
   ]
  },
  {
   "cell_type": "code",
   "execution_count": 3,
   "metadata": {},
   "outputs": [
    {
     "name": "stdout",
     "output_type": "stream",
     "text": [
      "input_shape_clicks 6\n"
     ]
    }
   ],
   "source": [
    "train_data_click = copy.deepcopy(train_data)\n",
    "val_data_click = copy.deepcopy(val_data)\n",
    "test_data_click = copy.deepcopy(test_data)\n",
    "\n",
    "\n",
    "def pandas_to_numpy(data):\n",
    "\n",
    "    ## features\n",
    "    features = np.asarray(data.data_features.values)\n",
    "\n",
    "    ## targets\n",
    "    if hasattr(data, \"data_targets\"):\n",
    "        labels = np.asarray(data.data_targets.values)\n",
    "        \n",
    "    return features, labels\n",
    "\n",
    "\n",
    "\n",
    "## drop unnecessary features\n",
    "def drop_features(data):\n",
    "    \n",
    "    keep_features = [\"hour\", \"useragent\", \"adexchange\", \"url\", \"slotformat\", \"slotid\"]\n",
    "    for f in data.data_features:\n",
    "        if f not in keep_features:\n",
    "            data.data_features.drop(f, axis=1, inplace = True)\n",
    "\n",
    "drop_features(train_data_click)\n",
    "drop_features(val_data_click)\n",
    "drop_features(test_data_click)\n",
    "\n",
    "x_train_clicks, y_train_clicks = pandas_to_numpy(train_data_click)\n",
    "x_val_clicks, y_val_clicks = pandas_to_numpy(val_data_click)\n",
    "x_test_clicks, y_test_clicks = pandas_to_numpy(test_data_click)\n",
    "\n",
    "\n",
    "\n",
    "\n",
    "def scale_data(x_train_clicks, x_val_clicks, x_test_clicks):\n",
    "    \n",
    "    # normalize the data attributes\n",
    "    from sklearn import preprocessing\n",
    "    from sklearn.preprocessing import MinMaxScaler\n",
    "\n",
    "    ## features\n",
    "    feature_scaler = MinMaxScaler(feature_range=(0, 1))\n",
    "    feature_scaler.fit(np.concatenate((x_train_clicks, x_val_clicks, x_test_clicks), axis = 0))       \n",
    "\n",
    "    x_train_clicks = feature_scaler.transform(x_train_clicks)\n",
    "    x_val_clicks = feature_scaler.transform(x_val_clicks)\n",
    "    x_test_clicks = feature_scaler.transform(x_test_clicks)\n",
    "    \n",
    "    return x_train_clicks, x_val_clicks, x_test_clicks\n",
    "\n",
    "\n",
    "x_train_clicks, x_val_clicks, x_test_clicks = scale_data(x_train_clicks, x_val_clicks, x_test_clicks)\n",
    "\n",
    "\n",
    "input_shape_clicks = x_train_clicks.shape[1]\n",
    "print(\"input_shape_clicks\", input_shape_clicks)"
   ]
  },
  {
   "cell_type": "markdown",
   "metadata": {},
   "source": [
    "## Payprice Data"
   ]
  },
  {
   "cell_type": "code",
   "execution_count": 4,
   "metadata": {},
   "outputs": [
    {
     "name": "stdout",
     "output_type": "stream",
     "text": [
      "input_shape_payprice 6\n"
     ]
    }
   ],
   "source": [
    "train_data_payprice = copy.deepcopy(train_data)\n",
    "val_data_payprice = copy.deepcopy(val_data)\n",
    "test_data_payprice = copy.deepcopy(test_data)\n",
    "\n",
    "\n",
    "def pandas_to_numpy(data):\n",
    "\n",
    "    ## features\n",
    "    features = np.asarray(data.data_features.values)\n",
    "\n",
    "    ## targets\n",
    "    if hasattr(data, \"data_targets\"):\n",
    "        labels = np.asarray(data.data_targets.values)\n",
    "        \n",
    "    return features, labels\n",
    "\n",
    "\n",
    "## drop unnecessary features\n",
    "def drop_features(data):\n",
    "    \n",
    "    keep_features = [\"adexchange\", \"domain\", \"slotwidth\", \"slotheight\", \"slotformat\", \"slotprice\"]\n",
    "    for f in data.data_features:\n",
    "        if f not in keep_features:\n",
    "            data.data_features.drop(f, axis=1, inplace = True)\n",
    "    \n",
    "\n",
    "drop_features(train_data_payprice)\n",
    "drop_features(val_data_payprice)\n",
    "drop_features(test_data_payprice)\n",
    "\n",
    "x_train_payprice, y_train_payprice = pandas_to_numpy(train_data_payprice)\n",
    "x_val_payprice, y_val_payprice = pandas_to_numpy(val_data_payprice)\n",
    "x_test_payprice, y_test_payprice = pandas_to_numpy(test_data_payprice)\n",
    "\n",
    "\n",
    "def scale_data(x_train_payprice, x_val_payprice, x_test_payprice):\n",
    "    \n",
    "    # normalize the data attributes\n",
    "    from sklearn import preprocessing\n",
    "    from sklearn.preprocessing import MinMaxScaler\n",
    "\n",
    "    ## features\n",
    "    feature_scaler = MinMaxScaler(feature_range=(0, 1))\n",
    "    feature_scaler.fit(np.concatenate((x_train_payprice, x_val_payprice, x_test_payprice), axis = 0))       \n",
    "\n",
    "    x_train = feature_scaler.transform(x_train_payprice)\n",
    "    x_val = feature_scaler.transform(x_val_payprice)\n",
    "    x_test = feature_scaler.transform(x_test_payprice)\n",
    "    \n",
    "    return x_train_payprice, x_val_payprice, x_test_payprice\n",
    "\n",
    "\n",
    "x_train_payprice, x_val_payprice, x_test_payprice = scale_data(x_train_payprice, x_val_payprice, x_test_payprice)\n",
    "\n",
    "input_shape_payprice = x_train_payprice.shape[1]\n",
    "print(\"input_shape_payprice\", input_shape_payprice)"
   ]
  },
  {
   "cell_type": "markdown",
   "metadata": {},
   "source": [
    "### Data Target Shapes"
   ]
  },
  {
   "cell_type": "code",
   "execution_count": 5,
   "metadata": {},
   "outputs": [],
   "source": [
    "# clicks\n",
    "y_train_clicks = np.reshape(y_train_clicks[:,0], (y_train_clicks.shape[0], 1))  # get first column (clicks)\n",
    "y_val_clicks = np.reshape(y_val_clicks[:,0], (y_val_clicks.shape[0], 1))  # get first column (clicks)\n",
    "\n",
    "# payprice\n",
    "y_train_payprice = np.reshape(y_train_payprice[:,2], (y_train_payprice.shape[0], 1))  # get third column (payprice)\n",
    "y_val_payprice = np.reshape(y_val_payprice[:,2], (y_val_payprice.shape[0], 1))  # get third column (payprice)"
   ]
  },
  {
   "cell_type": "markdown",
   "metadata": {},
   "source": [
    "# Create Evolutionary Bidding Agents"
   ]
  },
  {
   "cell_type": "code",
   "execution_count": 8,
   "metadata": {},
   "outputs": [],
   "source": [
    "class Bidding_Agent():\n",
    "    \n",
    "    nextid = 0\n",
    "    \n",
    "    def __init__(self,):\n",
    "        \n",
    "        ## -- Initialize Bidding Agent --\n",
    "        self.weights_clicks = np.random.uniform(low=-0.1, high=0.1, size=(input_shape_clicks,))\n",
    "        self.weights_payprize = np.random.uniform(low=-0.1, high=0.1, size=(input_shape_payprice,))\n",
    "        self.bias = np.random.uniform(low=-0.1, high=0.1, size=(1,))\n",
    "        \n",
    "        self.id = Bidding_Agent.nextid\n",
    "        Bidding_Agent.nextid += 1\n",
    "        \n",
    "        \n",
    "    def improve(self, new_weights_clicks, new_weights_payprice, new_bias, permutation_degree): \n",
    "        penalty_clicks = np.random.uniform(low=1-permutation_degree, high=1+permutation_degree, size=(new_weights_clicks.shape[0],))\n",
    "        penalty_payprize = np.random.uniform(low=1-permutation_degree, high=1+permutation_degree, size=(new_weights_payprice.shape[0],))\n",
    "        penalty_bias = np.random.uniform(low=1-permutation_degree, high=1+permutation_degree, size=(new_bias.shape[0],))\n",
    "\n",
    "        self.weights_clicks = new_weights_clicks * penalty_clicks\n",
    "        self.weights_payprize = new_weights_payprice * penalty_payprize\n",
    "        self.bias = new_bias * penalty_bias\n",
    "\n",
    "        \n",
    "    def place_bids(self, click_features, payprice_features):    \n",
    "        bids =  payprice_features.dot(self.weights_payprize) + self.bias # +  (click_features.dot(self.weights_clicks)\n",
    "        #print(\"average bidprice:\", np.mean(bids))\n",
    "        bids = bids.astype(int)\n",
    "        return np.reshape(bids, (bids.shape[0],1))\n",
    "    \n",
    "    \n",
    "    def update_stats(self,total_paid, total_clicks, ctr, left_budget):\n",
    "        self.total_paid = total_paid\n",
    "        self.total_clicks = total_clicks\n",
    "        self.ctr = ctr\n",
    "        self.left_budget = left_budget\n",
    "        self.results = [left_budget, total_clicks, ctr]\n",
    "        \n",
    "        \n",
    "    def get_parameters(self,):\n",
    "        return self.weights_clicks, self.weights_payprize, self.bias\n",
    "            \n",
    "    \n",
    "    \n",
    "agent_1 = Bidding_Agent()"
   ]
  },
  {
   "cell_type": "markdown",
   "metadata": {},
   "source": [
    "# Train Agents"
   ]
  },
  {
   "cell_type": "markdown",
   "metadata": {},
   "source": [
    "## Global Auction"
   ]
  },
  {
   "cell_type": "code",
   "execution_count": 18,
   "metadata": {},
   "outputs": [],
   "source": [
    "num_agents = 30\n",
    "num_evolutions = 30\n",
    "permutation_degree = 3.0\n",
    "permutation_degree_change = 1.1\n",
    "\n",
    "num_rows = 1000000\n",
    "x_clicks = x_val_clicks[0:num_rows]\n",
    "x_payprice = x_val_payprice[0:num_rows]\n",
    "\n",
    "y_clicks = y_val_clicks[0:num_rows]\n",
    "y_payprice = y_val_payprice[0:num_rows]\n",
    "\n",
    "def reward_function(total_paid, total_clicks, ctr, left_budget):\n",
    "    return (10000 * total_clicks) + (0.0555 * left_budget) + (10 * ctr)"
   ]
  },
  {
   "cell_type": "markdown",
   "metadata": {},
   "source": [
    "### Run"
   ]
  },
  {
   "cell_type": "code",
   "execution_count": 19,
   "metadata": {},
   "outputs": [
    {
     "name": "stdout",
     "output_type": "stream",
     "text": [
      "num_agents 30 num_evolutions 30 permutation_degree 3.0 permutation_degree_change 1.1\n",
      "\n",
      "evolution: 0 permutation_degree 3.0\n",
      "winning_agent: 75 , results: [6052861, 5, 0.00064]\n",
      "\n",
      "evolution: 1 permutation_degree 2.727272727272727\n",
      "winning_agent: 76 , results: [3043086, 27, 0.00063]\n",
      "\n",
      "evolution: 2 permutation_degree 2.4793388429752063\n",
      "winning_agent: 86 , results: [2439765, 26, 0.00044]\n",
      "\n",
      "evolution: 3 permutation_degree 2.253944402704733\n",
      "winning_agent: 83 , results: [-1811513, 51, 0.00056]\n",
      "\n",
      "evolution: 4 permutation_degree 2.0490403660952117\n",
      "winning_agent: 71 , results: [-4922345, 66, 0.00056]\n",
      "\n",
      "evolution: 5 permutation_degree 1.8627639691774651\n",
      "winning_agent: 84 , results: [-338292, 48, 0.00061]\n",
      "\n",
      "evolution: 6 permutation_degree 1.6934217901613318\n",
      "winning_agent: 65 , results: [1422334, 36, 0.00056]\n",
      "\n",
      "evolution: 7 permutation_degree 1.5394743546921197\n",
      "winning_agent: 84 , results: [6250000, 0, 0.0]\n",
      "\n",
      "evolution: 8 permutation_degree 1.3995221406291996\n",
      "winning_agent: 82 , results: [5469886, 5, 0.00048]\n",
      "\n",
      "evolution: 9 permutation_degree 1.272292855117454\n",
      "winning_agent: 79 , results: [2079870, 27, 0.00029]\n",
      "\n",
      "evolution: 10 permutation_degree 1.1566298682885945\n",
      "winning_agent: 86 , results: [-4705889, 73, 0.00047]\n",
      "\n",
      "evolution: 11 permutation_degree 1.0514816984441768\n",
      "winning_agent: 86 , results: [-2845691, 66, 0.00046]\n",
      "\n",
      "evolution: 12 permutation_degree 0.9558924531310697\n",
      "winning_agent: 66 , results: [-3529269, 68, 0.00045]\n",
      "\n",
      "evolution: 13 permutation_degree 0.8689931392100634\n",
      "winning_agent: 75 , results: [-3686683, 72, 0.00047]\n",
      "\n",
      "evolution: 14 permutation_degree 0.7899937629182394\n",
      "winning_agent: 64 , results: [-4086620, 73, 0.00049]\n",
      "\n",
      "evolution: 15 permutation_degree 0.7181761481074903\n",
      "winning_agent: 70 , results: [-2333667, 66, 0.00051]\n",
      "\n",
      "evolution: 16 permutation_degree 0.6528874073704457\n",
      "winning_agent: 57 , results: [-2702970, 67, 0.00051]\n",
      "\n",
      "evolution: 17 permutation_degree 0.5935340067004051\n",
      "winning_agent: 59 , results: [-1902987, 64, 0.00051]\n",
      "\n",
      "evolution: 18 permutation_degree 0.539576369727641\n",
      "winning_agent: 83 , results: [-1909165, 64, 0.0005]\n",
      "\n",
      "evolution: 19 permutation_degree 0.4905239724796736\n",
      "winning_agent: 70 , results: [-1000099, 60, 0.0005]\n",
      "\n",
      "evolution: 20 permutation_degree 0.44593088407243053\n",
      "winning_agent: 85 , results: [-952969, 60, 0.0005]\n",
      "\n",
      "evolution: 21 permutation_degree 0.40539171279311864\n",
      "winning_agent: 83 , results: [-1009606, 60, 0.0005]\n",
      "\n",
      "evolution: 22 permutation_degree 0.36853792072101693\n",
      "winning_agent: 79 , results: [-1133785, 60, 0.0005]\n",
      "\n",
      "evolution: 23 permutation_degree 0.3350344733827426\n",
      "winning_agent: 59 , results: [-922646, 60, 0.0005]\n",
      "\n",
      "evolution: 24 permutation_degree 0.3045767939843114\n",
      "winning_agent: 59 , results: [-920141, 60, 0.0005]\n",
      "\n",
      "evolution: 25 permutation_degree 0.27688799453119217\n",
      "winning_agent: 70 , results: [-978711, 60, 0.0005]\n",
      "\n",
      "evolution: 26 permutation_degree 0.25171635866472014\n",
      "winning_agent: 64 , results: [-936112, 60, 0.0005]\n",
      "\n",
      "evolution: 27 permutation_degree 0.22883305333156376\n",
      "winning_agent: 75 , results: [-1109294, 60, 0.0005]\n",
      "\n",
      "evolution: 28 permutation_degree 0.20803004848323975\n",
      "winning_agent: 65 , results: [-896732, 60, 0.00051]\n",
      "\n",
      "evolution: 29 permutation_degree 0.1891182258938543\n",
      "winning_agent: 80 , results: [-1001172, 60, 0.0005]\n"
     ]
    }
   ],
   "source": [
    "winning_agent = Bidding_Agent()\n",
    "\n",
    "agent_list = [Bidding_Agent() for i in range(num_agents)]\n",
    "evolutions = np.arange(0, num_evolutions, 1)\n",
    "print(\"num_agents\", num_agents, \"num_evolutions\", num_evolutions, \"permutation_degree\", permutation_degree, \"permutation_degree_change\", permutation_degree_change)\n",
    "\n",
    "for i in evolutions:\n",
    "    print(\"\\nevolution:\", i, \"permutation_degree\", permutation_degree)\n",
    "    \n",
    "    agent_ranking = list()\n",
    "\n",
    "    for agent_num, agent in enumerate(agent_list):\n",
    "        bids = agent.place_bids(x_clicks, x_payprice)\n",
    "        total_impressions, total_paid, total_clicks, ctr, left_budget = simulate_global_auction(agent, bids, y_clicks, y_payprice)\n",
    "        agent.update_stats(total_paid, total_clicks, ctr, left_budget)\n",
    "        \n",
    "        reward = reward_function(total_paid, total_clicks, ctr, left_budget)\n",
    "        #print(\"agent:\", agent.id, \"| reward:\", reward, \"| impre:\", total_impressions, \"| left budget:\", left_budget, \"| clicks:\", total_clicks, \"| ctr:\", ctr)\n",
    "\n",
    "        agent_ranking.append((agent,reward))\n",
    "        \n",
    "        \n",
    "    agent_ranking.sort(key=lambda elem: elem[1])\n",
    "    agent_ranking.reverse()\n",
    "    #print(agent_ranking)\n",
    "\n",
    "\n",
    "\n",
    "    winning_agent = agent_list[agent_list.index(agent_ranking[0][0])]\n",
    "    best_weights_clicks = winning_agent.weights_clicks\n",
    "    best_weights_payprize = winning_agent.weights_payprize\n",
    "    best_bias = winning_agent.bias\n",
    "    print(\"winning_agent:\", winning_agent.id, \", results:\", winning_agent.results)\n",
    "\n",
    "\n",
    "    \n",
    "    \n",
    "    ## set all agents to winning agents and permute\n",
    "    for agent_num, agent in enumerate(agent_list):\n",
    "        agent.improve(best_weights_clicks, best_weights_payprize, best_bias, permutation_degree)\n",
    "        \n",
    "        \n",
    "        \n",
    "    ## change permutation degree\n",
    "    permutation_degree = permutation_degree / permutation_degree_change\n",
    "    "
   ]
  },
  {
   "cell_type": "code",
   "execution_count": 11,
   "metadata": {},
   "outputs": [],
   "source": [
    "def simulate_global_auction(agent, bids, y_clicks, y_payprice):\n",
    "    \n",
    "    won_impressions_index = np.where(np.greater_equal(bids, y_payprice) == True)[0]\n",
    "    \n",
    "    pay_bids = bids[won_impressions_index]\n",
    "    obtained_clicks = y_clicks[won_impressions_index]\n",
    "\n",
    "    total_impressions = len(won_impressions_index)\n",
    "    total_paid = sum(pay_bids)\n",
    "    total_clicks = sum(obtained_clicks)\n",
    "    \n",
    "    try:\n",
    "        ctr = total_clicks / total_impressions\n",
    "    except:\n",
    "        total_paid = [0]\n",
    "        total_clicks = [0]\n",
    "        ctr = [0.0]\n",
    "        total_impressions = 0\n",
    "        \n",
    "    left_budget = 6250000 - int(total_paid[0])\n",
    "                \n",
    "    return total_impressions, int(total_paid[0]), total_clicks[0], round(ctr[0], 5), left_budget\n",
    "    "
   ]
  },
  {
   "cell_type": "markdown",
   "metadata": {},
   "source": [
    "## Iterative Auction"
   ]
  },
  {
   "cell_type": "code",
   "execution_count": 138,
   "metadata": {},
   "outputs": [
    {
     "name": "stdout",
     "output_type": "stream",
     "text": [
      "(303925, 25)\n"
     ]
    }
   ],
   "source": [
    "data_path = os.path.abspath(os.pardir + '/Data/validation.csv')\n",
    "df = pd.read_csv(data_path, na_values=['Na', 'null']).fillna(0)\n",
    "print(df.shape)"
   ]
  },
  {
   "cell_type": "code",
   "execution_count": 457,
   "metadata": {},
   "outputs": [],
   "source": [
    "x_clicks = x_val_clicks\n",
    "x_payprice = x_val_payprice\n",
    "\n",
    "bids = winning_agent.place_bids(x_clicks, x_payprice)"
   ]
  },
  {
   "cell_type": "code",
   "execution_count": 471,
   "metadata": {},
   "outputs": [
    {
     "name": "stdout",
     "output_type": "stream",
     "text": [
      "bid# 0 , budget: 6249977 , payprice: 23 , bids_won: 1 , earned_clicks: 0 \n",
      "\n",
      "-- break after auction # 95295\n",
      "__________________________________\n",
      "\n",
      "left budget: 0\n",
      "bids_won: 87521\n",
      "earned clicks: 52\n",
      "CTR: 0.0005941431199369294\n",
      "cost per click: 120192.30769230769\n"
     ]
    }
   ],
   "source": [
    "def simulate_auction(bids):\n",
    "\n",
    "    budget = 6250000\n",
    "\n",
    "    ## Evaluation Stats_____________\n",
    "\n",
    "    bids_won = 0\n",
    "    earned_clicks = 0\n",
    "    ctr = 0                  # bids_won / earned_clicks\n",
    "    total_paid = 0\n",
    "    cpc = 0                  # cost per click\n",
    "\n",
    "\n",
    "    for index, row in df.iterrows():\n",
    "\n",
    "        if bids[index] > budget: # check if budget is sufficient for bidprice\n",
    "            bids[index] = budget\n",
    "\n",
    "        if budget <= 0:\n",
    "            print(\"-- break after auction #\", index)\n",
    "            break\n",
    "\n",
    "            \n",
    "        # WON BID ______________________________________________\n",
    "\n",
    "        if bids[index] >= row['payprice']:     \n",
    "\n",
    "            bids_won += 1                        # won the bid\n",
    "            total_paid += row['payprice']        # add amount to total_paid   \n",
    "            budget = budget - row['payprice']    # substract money from budget\n",
    "\n",
    "            # CLICK = 1 ______________________________________________\n",
    "\n",
    "            if row['click'] == 1:    # only reduce money from budget if ad has been clicked\n",
    "\n",
    "                    earned_clicks += 1                   # earn the click\n",
    "\n",
    "        if index%100000 == 0:\n",
    "            print(\"bid#\", index, \", budget:\", budget, \", payprice:\", row['payprice'], \", bids_won:\", bids_won, \", earned_clicks:\", earned_clicks, \"\\n\")\n",
    "\n",
    "\n",
    "    print(\"__________________________________\\n\")\n",
    "\n",
    "    if earned_clicks > 0:\n",
    "        cpc = total_paid / earned_clicks\n",
    "    if bids_won > 0:\n",
    "        ctr = earned_clicks / bids_won\n",
    "\n",
    "    print(\"left budget:\", budget)\n",
    "    print(\"bids_won:\", bids_won)\n",
    "    print(\"earned clicks:\", earned_clicks)\n",
    "    print(\"CTR:\", ctr)\n",
    "    print(\"cost per click:\", cpc)\n",
    "\n",
    "        \n",
    "simulate_auction(bids)"
   ]
  },
  {
   "cell_type": "markdown",
   "metadata": {},
   "source": [
    "## CSV Submission"
   ]
  },
  {
   "cell_type": "code",
   "execution_count": null,
   "metadata": {},
   "outputs": [],
   "source": [
    "data_path_test = os.path.abspath(os.pardir + '/Data/test.csv')\n",
    "df_test = pd.read_csv(data_path_test, na_values=['Na', 'null']).fillna(0)\n"
   ]
  },
  {
   "cell_type": "code",
   "execution_count": null,
   "metadata": {},
   "outputs": [],
   "source": [
    "bidprice_series = pd.Series(data = bids, name='bidprice')\n",
    "submission_df = pd.DataFrame({'bidid': df_test['bidid'],'bidprice':bidprice_series})\n",
    "\n",
    "# Group Token: QQri5ISZz4Kn\n",
    "submission_df.to_csv('testing_bidding_price.csv', index = False)\n"
   ]
  }
 ],
 "metadata": {
  "kernelspec": {
   "display_name": "Python 3",
   "language": "python",
   "name": "python3"
  },
  "language_info": {
   "codemirror_mode": {
    "name": "ipython",
    "version": 3
   },
   "file_extension": ".py",
   "mimetype": "text/x-python",
   "name": "python",
   "nbconvert_exporter": "python",
   "pygments_lexer": "ipython3",
   "version": "3.7.0"
  }
 },
 "nbformat": 4,
 "nbformat_minor": 2
}
