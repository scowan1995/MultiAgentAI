{
 "cells": [
  {
   "cell_type": "markdown",
   "metadata": {},
   "source": [
    "# Neural Network"
   ]
  },
  {
   "cell_type": "markdown",
   "metadata": {},
   "source": [
    "## Enviroment"
   ]
  },
  {
   "cell_type": "code",
   "execution_count": 2,
   "metadata": {},
   "outputs": [],
   "source": [
    "import os\n",
    "import pandas as pd\n",
    "import numpy as np\n",
    "import matplotlib.pylab as plt\n",
    "import math\n",
    "\n",
    "import sys\n",
    "sys.path.append('../')\n",
    "\n",
    "from Preprocessing import preprocessing\n",
    "from Preprocessing.single_set import SingleSet"
   ]
  },
  {
   "cell_type": "code",
   "execution_count": 19,
   "metadata": {},
   "outputs": [],
   "source": [
    "%matplotlib inline"
   ]
  },
  {
   "cell_type": "markdown",
   "metadata": {},
   "source": [
    "## Data Preprocessing\n",
    "\n",
    "Features: data.data_features\n",
    "Targets: data.data_targets (click, bidprice, payprice)"
   ]
  },
  {
   "cell_type": "code",
   "execution_count": 4,
   "metadata": {},
   "outputs": [
    {
     "name": "stdout",
     "output_type": "stream",
     "text": [
      "-- data loaded --\n",
      "-- data loaded --\n"
     ]
    }
   ],
   "source": [
    "train_data_path = '/Data/train.csv'\n",
    "train_data = SingleSet(relative_path=train_data_path,use_numerical_labels=True)\n",
    "\n",
    "val_data_path = '/Data/validation.csv'\n",
    "val_data = SingleSet(relative_path=val_data_path,use_numerical_labels=True)\n",
    "\n",
    "test_data_path = '/Data/test.csv'\n",
    "test_data = SingleSet(relative_path=test_data_path,use_numerical_labels=True)"
   ]
  },
  {
   "cell_type": "code",
   "execution_count": 81,
   "metadata": {},
   "outputs": [],
   "source": [
    "def pandas_to_numpy(data):\n",
    "\n",
    "    ## features\n",
    "    features = np.asarray(data.data_features.values)\n",
    "\n",
    "    ## targets\n",
    "    if hasattr(data, \"data_targets\"):\n",
    "        labels = np.asarray(data.data_targets.values)\n",
    "        \n",
    "    return features, labels\n",
    "\n",
    "\n",
    "\n",
    "## drop unnecessary features\n",
    "def drop_features(data):\n",
    "    \n",
    "    if 'userid' in data.data_features:\n",
    "        data.data_features.drop('userid', axis=1, inplace = True)\n",
    "        \n",
    "    if 'urlid' in data.data_features:\n",
    "        data.data_features.drop('urlid', axis=1, inplace = True)\n",
    "\n",
    "\n",
    "drop_features(train_data)\n",
    "drop_features(val_data)\n",
    "\n",
    "x_train, y_train = pandas_to_numpy(train_data)\n",
    "x_val, y_val = pandas_to_numpy(val_data)\n",
    "x_test = pandas_to_numpy(val_data)"
   ]
  },
  {
   "cell_type": "markdown",
   "metadata": {},
   "source": [
    "### Data Input Shapes"
   ]
  },
  {
   "cell_type": "code",
   "execution_count": 9,
   "metadata": {},
   "outputs": [],
   "source": [
    "input_shape = x_train.shape[1]\n",
    "output_shape = 1\n",
    "\n",
    "# targets_________________________________________________\n",
    "\n",
    "# clicks\n",
    "y_train_clicks = np.reshape(y_train[:,0], (y_train.shape[0], 1))  # get first column (clicks)\n",
    "y_val_clicks = np.reshape(y_val[:,0], (y_val.shape[0], 1))  # get first column (clicks)\n",
    "\n",
    "# payprice\n",
    "y_train_payprice = np.reshape(y_train[:,2], (y_train.shape[0], 1))  # get third column (payprice)\n",
    "y_val_payprice = np.reshape(y_val[:,2], (y_val.shape[0], 1))  # get third column (payprice)"
   ]
  },
  {
   "cell_type": "markdown",
   "metadata": {},
   "source": [
    "### Scale Data"
   ]
  },
  {
   "cell_type": "code",
   "execution_count": 10,
   "metadata": {},
   "outputs": [],
   "source": [
    "# normalize the data attributes\n",
    "from sklearn import preprocessing\n",
    "from sklearn.preprocessing import MinMaxScaler\n",
    "\n",
    "#normalized_X = preprocessing.normalize(x_train)\n",
    "\n",
    "\n",
    "\n",
    "## features\n",
    "feature_scaler = MinMaxScaler(feature_range=(0, 1))\n",
    "feature_scaler.fit(np.concatenate((x_train, x_val, x_test), axis = 0))       \n",
    "\n",
    "x_train = feature_scaler.transform(x_train)\n",
    "x_val = feature_scaler.transform(x_val)\n",
    "x_test = feature_scaler.transform(x_test)\n",
    "\n",
    "## Targets________________________________________\n",
    "\n",
    "# payprice\n",
    "payprice_scaler = MinMaxScaler(feature_range=(0, 1))\n",
    "payprice_scaler.fit(np.concatenate((y_train_payprice, y_val_payprice), axis = 0))   \n",
    "\n",
    "y_train_payprice = payprice_scaler.transform(y_train_payprice)\n",
    "y_val_payprice = payprice_scaler.transform(y_val_payprice)\n",
    "\n"
   ]
  },
  {
   "cell_type": "markdown",
   "metadata": {},
   "source": [
    "## Model - Neural Networks\n",
    "\n",
    "Train Baseline Accuracy \"Clicks\": 0.9992618932746251%\n",
    "#of 0:    2429188     # of 1:       1793\n",
    "\n",
    "\n",
    "Val Baseline Accuracy \"Clicks\": 0.9993349203056733%\n",
    "#of 0:    303723     # of 1:       202\n",
    "\n",
    "### \"Click\" - Binary Classification"
   ]
  },
  {
   "cell_type": "code",
   "execution_count": 38,
   "metadata": {},
   "outputs": [],
   "source": [
    "#from sklearn.model_selection import train_test_split, StratifiedKFold\n",
    "import keras\n",
    "from keras.models import Sequential\n",
    "from keras.layers import Conv2D, MaxPooling2D\n",
    "from keras.layers import Activation, Dropout, Flatten, Dense\n",
    "from keras import backend as K\n",
    "from keras.preprocessing.image import ImageDataGenerator\n",
    "from keras.utils import to_categorical\n",
    "from keras import regularizers, initializers\n",
    "from keras.models import Sequential\n",
    "from keras.layers import Dense, Conv2D, MaxPooling2D, Dropout, Flatten\n",
    "from keras.models import Model, Input\n",
    "from keras import optimizers\n",
    "\n",
    "from random import shuffle\n",
    "from keras.callbacks import EarlyStopping, ModelCheckpoint\n",
    "from keras.models import model_from_json\n",
    "\n",
    "import os\n",
    "os.environ[\"TF_CPP_MIN_LOG_LEVEL\"]=\"2\"\n",
    "import warnings\n",
    "warnings.filterwarnings('ignore', '.*do not.*',)\n",
    "\n",
    "\n",
    "\n",
    "def create_model_clicks(input_shape, output_shape):\n",
    "\n",
    "    ## sequential model\n",
    "    model = Sequential()\n",
    "    \n",
    "    model.add(Dense(24, input_dim=input_shape, activation='tanh', kernel_regularizer=regularizers.l2(0.01)))\n",
    "    model.add(Dense(12, activation='relu', kernel_regularizer=regularizers.l2(0.01)))\n",
    "    model.add(Dropout(0.2))\n",
    "    model.add(Dense(6, activation='relu', kernel_regularizer=regularizers.l2(0.01)))\n",
    "    model.add(Dropout(0.2))\n",
    "    # working model___________\n",
    "    #model.add(Dense(3, input_dim=input_shape, activation='relu'))\n",
    "    #model.add(Dense(12, activation='relu'))\n",
    "    #model.add(Dense(12, activation='relu'))\n",
    "\n",
    "\n",
    "    #model.add(Dropout(0.5))\n",
    "    #model.add(Dropout(0.1))\n",
    "    model.add(Dense(output_shape, activation='sigmoid'))\n",
    "\n",
    "    ## other way of defining model\n",
    "    \n",
    "    #inputs = Input(shape=(input_shape,))\n",
    "    #outputs = Dense(output_shape, activation=\"relu\", kernel_regularizer=regularizers.l2(5e-4),kernel_initializer=initializers.he_normal(seed=13))(inputs)\n",
    "    #model = Model(inputs=inputs, outputs=outputs, name='bidder')\n",
    "\n",
    "    return model\n",
    "\n",
    "\n",
    "def plot_curves(history):\n",
    "\n",
    "    # Loss Curves\n",
    "    plt.figure(figsize=[8, 6])\n",
    "    plt.plot(history.history['loss'],'cadetblue', linewidth=3.0)\n",
    "    plt.plot(history.history['val_loss'],'midnightblue', linewidth=3.0)\n",
    "    plt.legend(['Training loss', 'Validation Loss'], fontsize=12)\n",
    "    plt.xlabel('Epochs ', fontsize=12)\n",
    "    plt.ylabel('Loss', fontsize=12)\n",
    "    plt.title('Loss Curves', fontsize=16, fontweight=\"bold\")\n",
    "    #plt.savefig('Results/neural_network/loss_curve.png')\n",
    "    #plt.show()\n",
    "\n",
    "    # Accuracy Curves\n",
    "    plt.figure(figsize=[8, 6])\n",
    "    plt.plot(history.history['acc'],'cadetblue', linewidth=3.0)\n",
    "    plt.plot(history.history['val_acc'], 'midnightblue', linewidth=3.0)\n",
    "    plt.legend(['Training Accuracy', 'Validation Accuracy'], fontsize=12)\n",
    "    plt.xlabel('Epochs ', fontsize=12)\n",
    "    plt.ylabel('Accuracy', fontsize=12)\n",
    "    plt.title('Accuracy Curves', fontsize=16, fontweight=\"bold\")\n",
    "    #plt.savefig('Results/neural_network/accuracy_curve.png')\n",
    "    plt.show()\n"
   ]
  },
  {
   "cell_type": "markdown",
   "metadata": {},
   "source": [
    "## Upsampling\n",
    "\n",
    "sample up \"1\"s for more balanced classification\n",
    "\n",
    "--> default accuracy: 50%"
   ]
  },
  {
   "cell_type": "code",
   "execution_count": 39,
   "metadata": {},
   "outputs": [],
   "source": [
    "def upsampling(x, y):\n",
    "\n",
    "    xy = np.concatenate((x, y), axis = 1)\n",
    "\n",
    "    zeros = xy[xy[:,-1] == 0]\n",
    "    ones = xy[xy[:,-1] == 1]\n",
    "\n",
    "    ones_upsampled = np.repeat(ones, math.ceil(len(zeros)/len(ones)), axis=0)\n",
    "\n",
    "    # cut at length of zeros.shape 2429188\n",
    "    ones_upsampled = ones_upsampled[:zeros.shape[0]]\n",
    "\n",
    "    xy_upsampled  = np.concatenate((ones_upsampled, zeros), axis = 0) # combine\n",
    "    np.random.shuffle(xy_upsampled)                                   # shuffle\n",
    "\n",
    "    x_upsampled = xy_upsampled[:,:-1]   # features\n",
    "    y_upsampled = xy_upsampled[:,-1:]   # targets\n",
    "    \n",
    "    return x_upsampled, y_upsampled\n",
    "\n",
    "\n",
    "x_train_up, y_train_clicks_up = upsampling(x_train, y_train_clicks)"
   ]
  },
  {
   "cell_type": "markdown",
   "metadata": {},
   "source": [
    "### Integer / Categorical One-Hot Encoding"
   ]
  },
  {
   "cell_type": "code",
   "execution_count": 40,
   "metadata": {},
   "outputs": [],
   "source": [
    "#y_train_clicks_up = keras.utils.to_categorical(y_train_clicks_up, 2)\n",
    "#y_val_clicks = keras.utils.to_categorical(y_val_clicks, 2)\n",
    "\n",
    "y_train_clicks_up = y_train_clicks_up.astype(int)\n",
    "y_val_clicks = y_val_clicks.astype(int)"
   ]
  },
  {
   "cell_type": "markdown",
   "metadata": {},
   "source": [
    "### Binary Model Compile"
   ]
  },
  {
   "cell_type": "code",
   "execution_count": 58,
   "metadata": {},
   "outputs": [
    {
     "name": "stdout",
     "output_type": "stream",
     "text": [
      "Click Classifier - features:  20 targets:  1\n",
      "_________________________________________________________________\n",
      "Layer (type)                 Output Shape              Param #   \n",
      "=================================================================\n",
      "dense_90 (Dense)             (None, 24)                504       \n",
      "_________________________________________________________________\n",
      "dense_91 (Dense)             (None, 12)                300       \n",
      "_________________________________________________________________\n",
      "dropout_39 (Dropout)         (None, 12)                0         \n",
      "_________________________________________________________________\n",
      "dense_92 (Dense)             (None, 6)                 78        \n",
      "_________________________________________________________________\n",
      "dropout_40 (Dropout)         (None, 6)                 0         \n",
      "_________________________________________________________________\n",
      "dense_93 (Dense)             (None, 1)                 7         \n",
      "=================================================================\n",
      "Total params: 889\n",
      "Trainable params: 889\n",
      "Non-trainable params: 0\n",
      "_________________________________________________________________\n",
      "None\n",
      "Train on 4858376 samples, validate on 303925 samples\n",
      "Epoch 1/1\n",
      "4858376/4858376 [==============================] - 7s 1us/step - loss: 1.1710 - acc: 0.4750 - val_loss: 1.1897 - val_acc: 0.2160\n"
     ]
    },
    {
     "data": {
      "image/png": "[encoded data removed]",
      "text/plain": [
       "<Figure size 576x432 with 1 Axes>"
      ]
     },
     "metadata": {
      "needs_background": "light"
     },
     "output_type": "display_data"
    },
    {
     "data": {
      "image/png": "[encoded data removed]",
      "text/plain": [
       "<Figure size 576x432 with 1 Axes>"
      ]
     },
     "metadata": {
      "needs_background": "light"
     },
     "output_type": "display_data"
    },
    {
     "name": "stdout",
     "output_type": "stream",
     "text": [
      "saved model to disk\n"
     ]
    }
   ],
   "source": [
    "print(\"Click Classifier - features: \", input_shape, \"targets: \", output_shape)\n",
    "\n",
    "# Clear model, and create it\n",
    "model_clicks = create_model_clicks(input_shape, output_shape)\n",
    "print(model_clicks.summary())\n",
    "    \n",
    "\n",
    "## hyperparameters_______________________________________\n",
    "    \n",
    "\n",
    "## model compile and train\n",
    "model_clicks.compile(optimizer='adam', loss='binary_crossentropy', metrics=['accuracy'])\n",
    "\n",
    "# specify learning rate\n",
    "#sgd = optimizers.SGD(lr=0.01, decay=1e-6, momentum=0.9, nesterov=True)\n",
    "\n",
    "#model.compile(loss='mean_squared_error', optimizer=sgd, metrics=['accuracy'])\n",
    "\n",
    "\n",
    "# Set callback functions to early stop training and save the best model so far\n",
    "callbacks = [EarlyStopping(monitor='val_loss', patience=25),\n",
    "             ModelCheckpoint('Results/neural_network/' + 'trained_weights.h5', monitor='loss', save_best_only=True)]\n",
    "\n",
    "# Fit the model on the batches\n",
    "batch_size = 1000024\n",
    "epochs = 1\n",
    "history = model_clicks.fit(x=x_train_up, y=y_train_clicks_up, batch_size=batch_size, \n",
    "                    epochs=epochs, validation_data=(x_val_scaled, y_val_clicks))\n",
    "# verbose=1, shuffle=True, callbacks=callbacks\n",
    "\n",
    "## model evaluate\n",
    "plot_curves(history)\n",
    "\n",
    "\n",
    "## save model to disk_____________________________________\n",
    "\n",
    "# serialize model to JSON\n",
    "model_json = model_clicks.to_json()\n",
    "\n",
    "if not os.path.exists('Results/neural_network'):\n",
    "    os.makedirs('Results/neural_network/')\n",
    "\n",
    "with open('Results/neural_network/click_architecture.json', \"w\") as json_file:\n",
    "    json_file.write(model_json)\n",
    "    \n",
    "# serialize weights to HDF5\n",
    "model_clicks.save_weights('Results/neural_network/click_weights.h5')\n",
    "print(\"saved model to disk\")\n",
    "\n"
   ]
  },
  {
   "cell_type": "markdown",
   "metadata": {},
   "source": [
    "### Prediction"
   ]
  },
  {
   "cell_type": "code",
   "execution_count": 15,
   "metadata": {},
   "outputs": [
    {
     "name": "stdout",
     "output_type": "stream",
     "text": [
      "303925/303925 [==============================] - 2s 7us/step\n",
      "0    260080\n",
      "1     43845\n",
      "Name: click, dtype: int64\n",
      "\n",
      "F1_score: 0.9214984415339882\n",
      "Accuracy: 0.8555071152422473\n"
     ]
    }
   ],
   "source": [
    "## Load Model for Testing_______________________________________________________________\n",
    "\n",
    "# Model reconstruction from JSON file\n",
    "#with open('Results/neural_network/' + 'model_architecture.json', 'r') as f:\n",
    "#    model_test = model_from_json(f.read())\n",
    "\n",
    "# Load weights into the new model\n",
    "#model_test.load_weights('Results/neural_network/' + 'trained_weights.h5')\n",
    "\n",
    "#model_test.compile(optimizer='adam', loss='categorical_crossentropy', metrics=['accuracy'])\n",
    "#model.compile(optimizer='adam', loss='categorical_crossentropy', metrics=['accuracy'])\n",
    "\n",
    "\n",
    "click_predictions = model_clicks.predict_classes(x_val, verbose=1)\n",
    "click_predictions_df = pd.DataFrame(click_predictions, columns= ['click'])\n",
    "\n",
    "print(click_predictions_df['click'].value_counts())\n",
    "\n",
    "from sklearn import metrics\n",
    "print(\"\\nF1_score:\", metrics.f1_score(y_val_clicks, click_predictions, average='weighted'))\n",
    "print(\"Accuracy:\", metrics.accuracy_score(y_val_clicks, click_predictions))\n",
    "\n",
    "\n",
    "#test_score = model.evaluate(x = x_val, y = y_val)\n",
    "#print('\\ntest accuracy:', test_score[1])"
   ]
  },
  {
   "cell_type": "markdown",
   "metadata": {},
   "source": [
    "### \"Payprice\" - Float Model"
   ]
  },
  {
   "cell_type": "code",
   "execution_count": 21,
   "metadata": {},
   "outputs": [],
   "source": [
    "from sklearn.model_selection import train_test_split, StratifiedKFold\n",
    "from keras.models import Sequential\n",
    "from keras.layers import Conv2D, MaxPooling2D\n",
    "from keras.layers import Activation, Dropout, Flatten, Dense\n",
    "from keras import backend as K\n",
    "from keras.preprocessing.image import ImageDataGenerator\n",
    "from keras.utils import to_categorical\n",
    "from keras import regularizers, initializers\n",
    "from keras.models import Sequential\n",
    "from keras.layers import Dense, Conv2D, MaxPooling2D, Dropout, Flatten\n",
    "from keras.models import Model, Input\n",
    "from keras import optimizers\n",
    "\n",
    "import matplotlib.pylab as plt\n",
    "from random import shuffle\n",
    "from keras.callbacks import EarlyStopping, ModelCheckpoint\n",
    "from keras.models import model_from_json\n",
    "\n",
    "import os\n",
    "os.environ[\"TF_CPP_MIN_LOG_LEVEL\"]=\"2\"\n",
    "import warnings\n",
    "warnings.filterwarnings('ignore', '.*do not.*',)\n",
    "\n",
    "\n",
    "\n",
    "def create_model_payprice(input_shape, output_shape):\n",
    "\n",
    "    ## sequential model\n",
    "    model = Sequential()\n",
    "    model.add(Dense(20, input_dim=input_shape, activation='relu'))\n",
    "    model.add(Dense(20, input_dim=input_shape, activation='relu'))\n",
    "    model.add(Dense(12, input_dim=input_shape, activation='relu'))\n",
    "    model.add(Dense(4, activation='linear'))\n",
    "\n",
    "    # working model___________\n",
    "    #model.add(Dense(3, input_dim=input_shape, activation='relu'))\n",
    "    #model.add(Dense(12, activation='relu'))\n",
    "    #model.add(Dense(12, activation='relu'))\n",
    "\n",
    "\n",
    "    #model.add(Dropout(0.5))\n",
    "    #model.add(Dropout(0.1))\n",
    "    model.add(Dense(output_shape))\n",
    "\n",
    "    ## other way of defining model\n",
    "    \n",
    "    #inputs = Input(shape=(input_shape,))\n",
    "    #outputs = Dense(output_shape, activation=\"relu\", kernel_regularizer=regularizers.l2(5e-4),kernel_initializer=initializers.he_normal(seed=13))(inputs)\n",
    "    #model = Model(inputs=inputs, outputs=outputs, name='bidder')\n",
    "\n",
    "    return model\n",
    "\n",
    "    \n",
    "def plot_curves(history):\n",
    "\n",
    "    # Loss Curves\n",
    "    plt.figure(figsize=[8, 6])\n",
    "    plt.plot(history.history['loss'],'cadetblue', linewidth=3.0)\n",
    "    plt.plot(history.history['val_loss'],'midnightblue', linewidth=3.0)\n",
    "    plt.legend(['Training loss', 'Validation Loss'], fontsize=12)\n",
    "    plt.xlabel('Epochs ', fontsize=12)\n",
    "    plt.ylabel('Loss', fontsize=12)\n",
    "    plt.title('Loss Curves', fontsize=16, fontweight=\"bold\")\n",
    "    #plt.savefig('Results/neural_network/loss_curve.png')\n",
    "    #plt.show()\n",
    "\n",
    "    # Accuracy Curves\n",
    "    plt.figure(figsize=[8, 6])\n",
    "    plt.plot(history.history['acc'],'cadetblue', linewidth=3.0)\n",
    "    plt.plot(history.history['val_acc'], 'midnightblue', linewidth=3.0)\n",
    "    plt.legend(['Training Accuracy', 'Validation Accuracy'], fontsize=12)\n",
    "    plt.xlabel('Epochs ', fontsize=12)\n",
    "    plt.ylabel('Accuracy', fontsize=12)\n",
    "    plt.title('Accuracy Curves', fontsize=16, fontweight=\"bold\")\n",
    "    #plt.savefig('Results/neural_network/accuracy_curve.png')\n",
    "    plt.show()\n",
    "\n",
    "\n",
    "\n"
   ]
  },
  {
   "cell_type": "markdown",
   "metadata": {},
   "source": [
    "### Compile Model \"Payprice\""
   ]
  },
  {
   "cell_type": "code",
   "execution_count": 60,
   "metadata": {},
   "outputs": [
    {
     "name": "stdout",
     "output_type": "stream",
     "text": [
      "features:  20 targets:  1\n",
      "_________________________________________________________________\n",
      "Layer (type)                 Output Shape              Param #   \n",
      "=================================================================\n",
      "dense_99 (Dense)             (None, 20)                420       \n",
      "_________________________________________________________________\n",
      "dense_100 (Dense)            (None, 20)                420       \n",
      "_________________________________________________________________\n",
      "dense_101 (Dense)            (None, 12)                252       \n",
      "_________________________________________________________________\n",
      "dense_102 (Dense)            (None, 4)                 52        \n",
      "_________________________________________________________________\n",
      "dense_103 (Dense)            (None, 1)                 5         \n",
      "=================================================================\n",
      "Total params: 1,149\n",
      "Trainable params: 1,149\n",
      "Non-trainable params: 0\n",
      "_________________________________________________________________\n",
      "None\n",
      "Train on 2430981 samples, validate on 303925 samples\n",
      "Epoch 1/1\n",
      "2430981/2430981 [==============================] - 5s 2us/step - loss: 0.1433 - acc: 3.2415e-04 - val_loss: 0.1819 - val_acc: 2.8955e-04\n"
     ]
    },
    {
     "data": {
      "image/png": "[encoded data removed]",
      "text/plain": [
       "<Figure size 576x432 with 1 Axes>"
      ]
     },
     "metadata": {
      "needs_background": "light"
     },
     "output_type": "display_data"
    },
    {
     "data": {
      "image/png": "[encoded data removed]",
      "text/plain": [
       "<Figure size 576x432 with 1 Axes>"
      ]
     },
     "metadata": {
      "needs_background": "light"
     },
     "output_type": "display_data"
    },
    {
     "name": "stdout",
     "output_type": "stream",
     "text": [
      "saved model to disk\n"
     ]
    }
   ],
   "source": [
    "print(\"features: \", input_shape, \"targets: \", output_shape)\n",
    "\n",
    "# Clear model, and create it\n",
    "model_payprice = create_model_payprice(input_shape, output_shape)\n",
    "print(model_payprice.summary())\n",
    "\n",
    "\n",
    "## hyperparameters_______________________________________\n",
    "    \n",
    "\n",
    "## model compile and train\n",
    "model_payprice.compile(optimizer='adam', loss='mse', metrics=['accuracy'])\n",
    "\n",
    "# specify learning rate\n",
    "#sgd = optimizers.SGD(lr=0.01, decay=1e-6, momentum=0.9, nesterov=True)\n",
    "\n",
    "#model.compile(loss='mean_squared_error', optimizer=sgd, metrics=['accuracy'])\n",
    "\n",
    "\n",
    "# Set callback functions to early stop training and save the best model so far\n",
    "callbacks = [EarlyStopping(monitor='val_loss', patience=25),\n",
    "             ModelCheckpoint('Results/neural_network/' + 'trained_weights.h5', monitor='loss', save_best_only=True)]\n",
    "\n",
    "# Fit the model on the batches\n",
    "batch_size = 10000028\n",
    "epochs = 1\n",
    "history = model_payprice.fit(x=x_train, y=y_train_payprice, batch_size=batch_size, \n",
    "                    epochs=epochs, validation_data=(x_val, y_val_payprice))\n",
    "# verbose=1, shuffle=True, callbacks=callbacks\n",
    "\n",
    "## model evaluate\n",
    "plot_curves(history)\n",
    "\n",
    "\n",
    "## save model to disk_____________________________________\n",
    "\n",
    "# serialize model to JSON\n",
    "model_json = model_payprice.to_json()\n",
    "\n",
    "if not os.path.exists('Results/neural_network'):\n",
    "    os.makedirs('Results/neural_network/')\n",
    "\n",
    "with open('Results/neural_network/payprice_architecture.json', \"w\") as json_file:\n",
    "    json_file.write(model_json)\n",
    "    \n",
    "# serialize weights to HDF5\n",
    "model_payprice.save_weights('Results/neural_network/payprice_weights.h5')\n",
    "print(\"saved model to disk\")"
   ]
  },
  {
   "cell_type": "markdown",
   "metadata": {},
   "source": [
    "### Prediction"
   ]
  },
  {
   "cell_type": "code",
   "execution_count": 23,
   "metadata": {},
   "outputs": [
    {
     "name": "stdout",
     "output_type": "stream",
     "text": [
      "303925/303925 [==============================] - 2s 8us/step\n",
      "\n",
      "Mean Squared Error: 3313.1624832475604\n",
      "\n",
      "           payprice\n",
      "0        31.083591\n",
      "1        94.842720\n",
      "2        65.033401\n",
      "3        67.184372\n",
      "4        51.259716\n",
      "5        30.682362\n",
      "6        49.363663\n",
      "7        36.500805\n",
      "8        65.452599\n",
      "9        61.337212\n",
      "10       65.718590\n",
      "11       44.020817\n",
      "12       62.902653\n",
      "13       69.880318\n",
      "14      122.598511\n",
      "15       55.613022\n",
      "16       56.569275\n",
      "17      110.564392\n",
      "18       57.079155\n",
      "19       66.566528\n",
      "20       43.909782\n",
      "21       56.933334\n",
      "22       47.697189\n",
      "23       66.917572\n",
      "24       20.663416\n",
      "25       43.528099\n",
      "26       70.757042\n",
      "27       64.981941\n",
      "28       73.918495\n",
      "29       88.502625\n",
      "...            ...\n",
      "303895  126.395195\n",
      "303896   31.557482\n",
      "303897   26.427261\n",
      "303898   79.310196\n",
      "303899   60.414410\n",
      "303900   16.100155\n",
      "303901   57.160057\n",
      "303902   63.523998\n",
      "303903   68.823380\n",
      "303904   86.872795\n",
      "303905   36.488918\n",
      "303906   81.461594\n",
      "303907   78.720184\n",
      "303908   85.652473\n",
      "303909   49.246601\n",
      "303910   83.921181\n",
      "303911   39.238003\n",
      "303912   78.874405\n",
      "303913   59.838989\n",
      "303914   45.348103\n",
      "303915   78.219971\n",
      "303916   35.546467\n",
      "303917   65.952133\n",
      "303918   50.347660\n",
      "303919   62.830769\n",
      "303920   48.751835\n",
      "303921   46.713852\n",
      "303922   45.536839\n",
      "303923   61.667820\n",
      "303924   54.214268\n",
      "\n",
      "[303925 rows x 1 columns]\n"
     ]
    }
   ],
   "source": [
    "## Load Model for Testing_______________________________________________________________\n",
    "\n",
    "# Model reconstruction from JSON file\n",
    "#with open('Results/neural_network/' + 'model_architecture.json', 'r') as f:\n",
    "#    model_test = model_from_json(f.read())\n",
    "\n",
    "# Load weights into the new model\n",
    "#model_test.load_weights('Results/neural_network/' + 'trained_weights.h5')\n",
    "\n",
    "#model_test.compile(optimizer='adam', loss='categorical_crossentropy', metrics=['accuracy'])\n",
    "#model.compile(optimizer='adam', loss='categorical_crossentropy', metrics=['accuracy'])\n",
    "\n",
    "payprice_predictions_scaled = model_payprice.predict(x_val, verbose=1)\n",
    "\n",
    "# scale back\n",
    "payprice_predictions = payprice_scaler.inverse_transform(payprice_predictions_scaled)\n",
    "payprice_predictions_df = pd.DataFrame(payprice_predictions, columns= ['payprice'])\n",
    "\n",
    "from sklearn import metrics\n",
    "print(\"\\nMean Squared Error:\", metrics.mean_squared_error(payprice_scaler.inverse_transform(y_val_payprice), payprice_predictions))\n",
    "print(\"\\n\", payprice_predictions_df)\n",
    "\n",
    "#test_score = model.evaluate(x = x_val, y = y_val)\n",
    "#print('\\ntest accuracy:', test_score[1])"
   ]
  },
  {
   "cell_type": "markdown",
   "metadata": {},
   "source": [
    "# Make Bidding"
   ]
  },
  {
   "cell_type": "markdown",
   "metadata": {},
   "source": [
    "## Predict Clicks and Payprice"
   ]
  },
  {
   "cell_type": "code",
   "execution_count": 70,
   "metadata": {},
   "outputs": [
    {
     "name": "stdout",
     "output_type": "stream",
     "text": [
      "-- data loaded --\n",
      "-- data loaded --\n",
      "saved pickle\n",
      "-- data loaded --\n"
     ]
    }
   ],
   "source": [
    "train_data_path = '/Data/train.csv'\n",
    "train_data = SingleSet(relative_path=train_data_path,use_numerical_labels=True)\n",
    "\n",
    "val_data_path = '/Data/validation.csv'\n",
    "val_data = SingleSet(relative_path=val_data_path,use_numerical_labels=True)\n",
    "\n",
    "test_data_path = '/Data/test.csv'\n",
    "test_data = SingleSet(relative_path=test_data_path,use_numerical_labels=True)"
   ]
  },
  {
   "cell_type": "code",
   "execution_count": 79,
   "metadata": {},
   "outputs": [],
   "source": [
    "def pandas_to_numpy(data):\n",
    "\n",
    "    ## features\n",
    "    features = np.asarray(data.data_features.values)\n",
    "\n",
    "    ## targets\n",
    "    if hasattr(data, \"data_targets\"):\n",
    "        labels = np.asarray(data.data_targets.values)\n",
    "        \n",
    "    return features, labels\n",
    "\n",
    "\n",
    "\n",
    "## drop unnecessary features\n",
    "def drop_features(data):\n",
    "    \n",
    "    if 'userid' in data.data_features:\n",
    "        data.data_features.drop('userid', axis=1, inplace = True)\n",
    "        \n",
    "    if 'urlid' in data.data_features:\n",
    "        data.data_features.drop('urlid', axis=1, inplace = True)\n",
    "\n",
    "\n",
    "drop_features(train_data)\n",
    "drop_features(val_data)\n",
    "drop_features(test_data)\n",
    "\n",
    "x_train, y_train = pandas_to_numpy(train_data)\n",
    "x_val, y_val = pandas_to_numpy(val_data)\n",
    "x_test = drop_features(test_data)"
   ]
  },
  {
   "cell_type": "markdown",
   "metadata": {},
   "source": [
    "### Scale Data"
   ]
  },
  {
   "cell_type": "code",
   "execution_count": null,
   "metadata": {},
   "outputs": [],
   "source": [
    "# normalize the data attributes\n",
    "from sklearn import preprocessing\n",
    "from sklearn.preprocessing import MinMaxScaler\n",
    "\n",
    "## features\n",
    "feature_scaler = MinMaxScaler(feature_range=(0, 1))\n",
    "feature_scaler.fit(np.concatenate((x_train, x_val, x_test), axis = 0))       \n",
    "\n",
    "x_train = feature_scaler.transform(x_train)\n",
    "x_val = feature_scaler.transform(x_val)\n",
    "x_test = feature_scaler.transform(x_test)"
   ]
  },
  {
   "cell_type": "markdown",
   "metadata": {},
   "source": [
    "## Load Models"
   ]
  },
  {
   "cell_type": "code",
   "execution_count": 82,
   "metadata": {},
   "outputs": [],
   "source": [
    "## Load Models for Bidding _______________________________________________________________\n",
    "\n",
    "\n",
    "## CLICKS___________\n",
    "\n",
    "# Model reconstruction from JSON file\n",
    "with open('Results/neural_network/click_architecture.json', 'r') as f:\n",
    "    model_clicks = model_from_json(f.read())\n",
    "\n",
    "# Load weights into the new model\n",
    "model_clicks.load_weights('Results/neural_network/click_weights.h5')\n",
    "\n",
    "\n",
    "## PAYPRICE___________\n",
    "\n",
    "# Model reconstruction from JSON file\n",
    "with open('Results/neural_network/payprice_architecture.json', 'r') as f:\n",
    "    model_payprice = model_from_json(f.read())\n",
    "\n",
    "# Load weights into the new model\n",
    "model_payprice.load_weights('Results/neural_network/payprice_weights.h5')"
   ]
  },
  {
   "cell_type": "markdown",
   "metadata": {},
   "source": [
    "## Predict"
   ]
  },
  {
   "cell_type": "code",
   "execution_count": 149,
   "metadata": {},
   "outputs": [
    {
     "name": "stdout",
     "output_type": "stream",
     "text": [
      "303925/303925 [==============================] - 6s 20us/step\n",
      "303925/303925 [==============================] - 6s 19us/step\n"
     ]
    }
   ],
   "source": [
    "predict_data = x_val\n",
    "\n",
    "## CLICKS___________\n",
    "\n",
    "click_predictions = model_clicks.predict_classes(predict_data, verbose=1)\n",
    "\n",
    "## PAYPRICE___________\n",
    "\n",
    "payprice_predictions_scaled = model_payprice.predict(predict_data, verbose=1)\n",
    "payprice_predictions = payprice_scaler.inverse_transform(payprice_predictions_scaled)\n"
   ]
  },
  {
   "cell_type": "markdown",
   "metadata": {},
   "source": [
    "## Make Bidding Decision"
   ]
  },
  {
   "cell_type": "code",
   "execution_count": 155,
   "metadata": {},
   "outputs": [],
   "source": [
    "def set_bids(bids, click_predictions, payprice_predictions):\n",
    "\n",
    "## 1.) Only bid for expected clicks!\n",
    "\n",
    "    for p in range(0, len(bids)):\n",
    "\n",
    "        if click_predictions[p] == 1:\n",
    "            #bids[p] = payprice_predictions[p]\n",
    "            bids[p] = 160\n",
    "            \n",
    "    return bids\n",
    "\n",
    "\n",
    "\n",
    "def set_bidprices(bids, budget, payprice_predictions):\n",
    "    \n",
    "    ## 2.) Prefer cheap payprice predictions\n",
    "    \n",
    "    budget = 6250000\n",
    "    planned_bid_amount = sum(bids)\n",
    "    exceed_budget = 0\n",
    "    n_bids = len(bids[np.where(bids > 0)])\n",
    "\n",
    "    while (planned_bid_amount > budget + exceed_budget):\n",
    "\n",
    "        index, = list(np.where(bids == max(bids)))    # find expensive bids\n",
    "        bids[index] = max(bids) - 1                   # set expensive bid lower\n",
    "        planned_bid_amount = sum(bids)                # check new bidding amount\n",
    "\n",
    "    n_bids = len(bids[np.where(bids > 0)])  \n",
    "    print(\"planned_bid_amount:\", sum(bids), \", difference to budget:\", (budget - sum(bids)), \n",
    "          \", number of bids:\", n_bids, \", average bidprice:\",round(np.mean(bids)))\n",
    "    \n",
    "    return bids\n",
    "\n",
    "    "
   ]
  },
  {
   "cell_type": "code",
   "execution_count": 158,
   "metadata": {},
   "outputs": [
    {
     "name": "stdout",
     "output_type": "stream",
     "text": [
      "planned_bid_amount: 6214320.0 , difference to budget: 35680.0 , number of bids: 46032 , average bidprice: 20.0\n"
     ]
    }
   ],
   "source": [
    "bid_array = np.zeros((len(predict_data)))\n",
    "\n",
    "bid_decisions = set_bids(bid_array, click_predictions, payprice_predictions)\n",
    "bids = set_bidprices(bid_decisions, budget, payprice_predictions)\n"
   ]
  },
  {
   "cell_type": "markdown",
   "metadata": {},
   "source": [
    "## Test Decision in Auction"
   ]
  },
  {
   "cell_type": "code",
   "execution_count": 159,
   "metadata": {},
   "outputs": [],
   "source": [
    "data_path = os.path.abspath(os.pardir + '/Data/validation.csv')\n",
    "df = pd.read_csv(data_path, na_values=['Na', 'null']).fillna(0)"
   ]
  },
  {
   "cell_type": "code",
   "execution_count": 161,
   "metadata": {},
   "outputs": [
    {
     "name": "stdout",
     "output_type": "stream",
     "text": [
      "bid# 0 , budget: 6250000 , payprice: 23 , bids_won: 0 , earned_clicks: 0 \n",
      "\n",
      "bid# 100000 , budget: 5539093 , payprice: 63 , bids_won: 12653 , earned_clicks: 7 \n",
      "\n",
      "bid# 200000 , budget: 4813088 , payprice: 196 , bids_won: 25557 , earned_clicks: 13 \n",
      "\n",
      "bid# 300000 , budget: 4099494 , payprice: 60 , bids_won: 38235 , earned_clicks: 24 \n",
      "\n",
      "__________________________________\n",
      "\n",
      "left budget: 4072637\n",
      "bids_won: 38723\n",
      "earned clicks: 24\n",
      "CTR: 0.0006197866900808305\n",
      "cost per click: 90723.45833333333\n"
     ]
    }
   ],
   "source": [
    "budget = 6250000\n",
    "\n",
    "## Evaluation Stats_____________\n",
    "\n",
    "bids_won = 0\n",
    "earned_clicks = 0\n",
    "ctr = 0                  # bids_won / earned_clicks\n",
    "total_paid = 0\n",
    "cpc = 0                  # cost per click\n",
    "\n",
    "\n",
    "for index, row in df.iterrows():\n",
    "\n",
    "    if bids[index] > budget: # check if budget is sufficient for bidprice\n",
    "        bids[index] = budget\n",
    "        #print(\"constant bid reduced to:\", constant_bid, \", total_paid:\", total_paid, \", bids_won:\", bids_won, \", earned clicks:\", earned_clicks, \"\\n\")\n",
    "\n",
    "    if budget <= 0:\n",
    "        print(\"-- break after auction #\", index)\n",
    "        break\n",
    "\n",
    "    # WON BID ______________________________________________\n",
    "\n",
    "    if bids[index] >= row['payprice']:     \n",
    "\n",
    "        bids_won += 1                        # won the bid\n",
    "        total_paid += row['payprice']        # add amount to total_paid   \n",
    "        budget = budget - row['payprice']    # substract money from budget\n",
    "\n",
    "        #if constant_bid == row['bidprice']:      \n",
    "            #budget = budget - row['payprice']    # substract money from budget\n",
    "\n",
    "        #elif constant_bid > row['bidprice']:\n",
    "        #    budget = budget - row['bidprice']    # substract money from budget\n",
    "\n",
    "        # CLICK = 1 ______________________________________________\n",
    "\n",
    "        if row['click'] == 1:    # only reduce money from budget if ad has been clicked\n",
    "\n",
    "                earned_clicks += 1                   # earn the click\n",
    "                #print(\"current budget:\", budget, \", earned clicks:\", earned_clicks, \"\\n\")\n",
    "\n",
    "    if index%100000 == 0:\n",
    "        print(\"bid#\", index, \", budget:\", budget, \", payprice:\", row['payprice'], \", bids_won:\", bids_won, \", earned_clicks:\", earned_clicks, \"\\n\")\n",
    "\n",
    "\n",
    "\n",
    "print(\"__________________________________\\n\")\n",
    "\n",
    "if earned_clicks > 0:\n",
    "    cpc = total_paid / earned_clicks\n",
    "if bids_won > 0:\n",
    "    ctr = earned_clicks / bids_won\n",
    "\n",
    "print(\"left budget:\", budget)\n",
    "print(\"bids_won:\", bids_won)\n",
    "print(\"earned clicks:\", earned_clicks)\n",
    "print(\"CTR:\", ctr)\n",
    "print(\"cost per click:\", cpc)\n",
    "\n"
   ]
  },
  {
   "cell_type": "code",
   "execution_count": null,
   "metadata": {},
   "outputs": [],
   "source": []
  }
 ],
 "metadata": {
  "kernelspec": {
   "display_name": "Python 3",
   "language": "python",
   "name": "python3"
  },
  "language_info": {
   "codemirror_mode": {
    "name": "ipython",
    "version": 3
   },
   "file_extension": ".py",
   "mimetype": "text/x-python",
   "name": "python",
   "nbconvert_exporter": "python",
   "pygments_lexer": "ipython3",
   "version": "3.7.0"
  }
 },
 "nbformat": 4,
 "nbformat_minor": 2
}
