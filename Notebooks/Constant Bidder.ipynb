{
 "cells": [
  {
   "cell_type": "markdown",
   "metadata": {},
   "source": [
    "# Constant Bidder"
   ]
  },
  {
   "cell_type": "markdown",
   "metadata": {},
   "source": [
    "## Environment"
   ]
  },
  {
   "cell_type": "code",
   "execution_count": 2,
   "metadata": {},
   "outputs": [],
   "source": [
    "import os\n",
    "import pandas as pd\n",
    "import numpy as np\n",
    "import matplotlib.pylab as plt"
   ]
  },
  {
   "cell_type": "markdown",
   "metadata": {},
   "source": [
    "## Data Loader"
   ]
  },
  {
   "cell_type": "code",
   "execution_count": 3,
   "metadata": {},
   "outputs": [],
   "source": [
    "data_path = os.path.abspath(os.pardir + '/Data/train.csv')\n",
    "df = pd.read_csv(data_path, na_values=['Na', 'null']).fillna(0)"
   ]
  },
  {
   "cell_type": "markdown",
   "metadata": {},
   "source": [
    "### Data Exploration"
   ]
  },
  {
   "cell_type": "code",
   "execution_count": 4,
   "metadata": {},
   "outputs": [
    {
     "name": "stdout",
     "output_type": "stream",
     "text": [
      "                 ctr        eCPC    payprice    bidprice\n",
      "advertiser                                              \n",
      "1458        0.000782   96.576623   96.576623  300.000000\n",
      "2259        0.000322  107.604651  107.604651  290.441860\n",
      "2261        0.000327  132.000000  132.000000  287.388889\n",
      "2821        0.000620  119.839695  119.839695  290.755725\n",
      "2997        0.004355   89.036866   89.036866  277.000000\n",
      "3358        0.000762  110.871287  110.871287  232.188119\n",
      "3386        0.000703  118.737500  118.737500  300.000000\n",
      "3427        0.000675  103.533088  103.533088  235.047794\n",
      "3476        0.000602  101.406417  101.406417  248.812834\n"
     ]
    }
   ],
   "source": [
    "df_clicks = df.loc[df[\"click\"] == 1]\n",
    "df_clicks.reset_index(drop=True, inplace=True)\n",
    "\n",
    "feature = 'advertiser'\n",
    "df_grouped_mean = df_clicks.groupby([feature]).mean()\n",
    "df_grouped_sum = df_clicks.groupby([feature]).sum()\n",
    "\n",
    "df_grouped_mean['eCPC'] = df_grouped_sum['payprice'] / (df_grouped_sum['click'])\n",
    "df_grouped_mean['ctr'] = df_grouped_sum['click'] / df['advertiser'].value_counts()\n",
    "\n",
    "#print(df_grouped['eCPC'], \"\\n\")\n",
    "\n",
    "df_clicks.mean()\n",
    "#df_grouped_mean\n",
    "\n",
    "df_overview = pd.DataFrame(df_grouped_mean, columns=['ctr', 'eCPC', 'payprice', 'bidprice'])\n",
    "print(df_overview)"
   ]
  },
  {
   "cell_type": "markdown",
   "metadata": {},
   "source": [
    "### Incoming bids\n",
    "\n",
    "target and feature variables\n",
    "\n",
    "'target' : 'click',     # 'payprice', 'bidprice'   # select the target\n",
    "\n",
    "'features': ['weekday', 'hour', 'bidid', 'userid', 'useragent', 'IP', 'region', 'city', 'adexchange', 'domain', \n",
    "'url', 'urlid', 'slotid', 'slotwidth', 'slotheight', 'slotvisibility', 'slotformat', 'slotprice', 'creative', 'keypage', 'advertiser', 'usertag'], # select the data features\n"
   ]
  },
  {
   "cell_type": "code",
   "execution_count": null,
   "metadata": {},
   "outputs": [],
   "source": [
    "budget = 6250\n",
    "constant_bid = 280\n",
    "\n",
    "## Evaluation Stats_____________\n",
    "\n",
    "bids_won = 0\n",
    "earned_clicks = 0\n",
    "ctr = 0                  # bids_won / earned_clicks\n",
    "total_paid = 0\n",
    "cpc = 0                  # cost per click\n",
    "\n",
    "print(\"starting budget:\", budget, \"\\n\")\n",
    "\n",
    "for index, row in df.iterrows():\n",
    "        \n",
    "    if constant_bid > budget: # check if budget is sufficient for bidprice\n",
    "        constant_bid = budget\n",
    "        print(\"constant bid reduced to:\", constant_bid, \", total_paid:\", total_paid, \", bids_won:\", bids_won, \"\\n\")\n",
    "        \n",
    "    # WON BID ______________________________________________\n",
    "\n",
    "    if constant_bid >= row['bidprice']:     \n",
    "        \n",
    "        bids_won += 1                        # won the bid\n",
    "        total_paid += row['payprice']        # add amount to total_paid   \n",
    "        budget = budget - row['payprice']    # substract money from budget\n",
    "        \n",
    "        #if constant_bid == row['bidprice']:      \n",
    "            #budget = budget - row['payprice']    # substract money from budget\n",
    "            \n",
    "        #elif constant_bid > row['bidprice']:\n",
    "        #    budget = budget - row['bidprice']    # substract money from budget\n",
    "                \n",
    "        # CLICK = 1 ______________________________________________\n",
    "    \n",
    "        if row['click'] == 1:    # only reduce money from budget if ad has been clicked\n",
    "            \n",
    "                earned_clicks += 1                   # earn the click\n",
    "                print(\"current budget:\", budget, \", earned clicks:\", earned_clicks, \"\\n\")\n",
    "                \n",
    "        print(\"WON - bid#\", index, \", budget:\", budget, \", payprice:\", row['payprice'], \", bids_won:\", bids_won, \", earned_clicks:\", earned_clicks, \"\\n\")\n",
    "        \n",
    "    #if index%100000 == 0:\n",
    "    #    print(\"bid#\", index, \", budget:\", budget, \", bids_won:\", bids_won, \", earned_clicks:\", earned_clicks, \"\\n\")\n",
    "\n",
    "        \n",
    "print(\"__________________________________\\n\")\n",
    "\n",
    "if earned_clicks > 0:\n",
    "    cpc = total_paid / earned_clicks\n",
    "if bids_won > 0:\n",
    "    ctr = earned_clicks / bids_won\n",
    "\n",
    "print(\"left budget:\", budget)\n",
    "print(\"earned clicks:\", earned_clicks)\n",
    "print(\"CTR:\", ctr)\n",
    "print(\"cost per click:\", cpc)\n",
    "        "
   ]
  },
  {
   "cell_type": "code",
   "execution_count": null,
   "metadata": {},
   "outputs": [],
   "source": []
  }
 ],
 "metadata": {
  "kernelspec": {
   "display_name": "Python 3",
   "language": "python",
   "name": "python3"
  },
  "language_info": {
   "codemirror_mode": {
    "name": "ipython",
    "version": 3
   },
   "file_extension": ".py",
   "mimetype": "text/x-python",
   "name": "python",
   "nbconvert_exporter": "python",
   "pygments_lexer": "ipython3",
   "version": "3.7.0"
  }
 },
 "nbformat": 4,
 "nbformat_minor": 2
}
