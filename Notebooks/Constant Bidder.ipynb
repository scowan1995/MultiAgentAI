{
 "cells": [
  {
   "cell_type": "markdown",
   "metadata": {},
   "source": [
    "# Constant Bidder"
   ]
  },
  {
   "cell_type": "markdown",
   "metadata": {},
   "source": [
    "## Environment"
   ]
  },
  {
   "cell_type": "code",
   "execution_count": 2,
   "metadata": {},
   "outputs": [],
   "source": [
    "import os\n",
    "import pandas as pd\n",
    "import numpy as np\n",
    "import matplotlib.pylab as plt"
   ]
  },
  {
   "cell_type": "markdown",
   "metadata": {},
   "source": [
    "## Data Loader"
   ]
  },
  {
   "cell_type": "code",
   "execution_count": 5,
   "metadata": {},
   "outputs": [],
   "source": [
    "data_path = os.path.abspath(os.pardir + '/Data/mock.csv')\n",
    "df = pd.read_csv(data_path, na_values=['Na', 'null']).fillna(0)"
   ]
  },
  {
   "cell_type": "markdown",
   "metadata": {},
   "source": [
    "### Set up Budget and Strategy"
   ]
  },
  {
   "cell_type": "code",
   "execution_count": 22,
   "metadata": {},
   "outputs": [],
   "source": [
    "budget = 1000\n",
    "constant_bid = 1000"
   ]
  },
  {
   "cell_type": "markdown",
   "metadata": {},
   "source": [
    "### Incoming bids\n",
    "\n",
    "target and feature variables\n",
    "\n",
    "'target' : 'click',     # 'payprice', 'bidprice'   # select the target\n",
    "\n",
    "'features': ['weekday', 'hour', 'bidid', 'userid', 'useragent', 'IP', 'region', 'city', 'adexchange', 'domain', \n",
    "'url', 'urlid', 'slotid', 'slotwidth', 'slotheight', 'slotvisibility', 'slotformat', 'slotprice', 'creative', 'keypage', 'advertiser', 'usertag'], # select the data features\n"
   ]
  },
  {
   "cell_type": "code",
   "execution_count": 26,
   "metadata": {},
   "outputs": [
    {
     "name": "stdout",
     "output_type": "stream",
     "text": [
      "starting budget: 1000 \n",
      "\n",
      "current budget: 949 , earned clicks: 1 \n",
      "\n",
      "current budget: 899 , earned clicks: 2 \n",
      "\n",
      "current budget: 802 , earned clicks: 3 \n",
      "\n",
      "current budget: 752 , earned clicks: 4 \n",
      "\n",
      "current budget: 704 , earned clicks: 5 \n",
      "\n",
      "current budget: 634 , earned clicks: 6 \n",
      "\n",
      "current budget: 603 , earned clicks: 7 \n",
      "\n",
      "current budget: 542 , earned clicks: 8 \n",
      "\n",
      "current budget: 420 , earned clicks: 9 \n",
      "\n",
      "current budget: 308 , earned clicks: 10 \n",
      "\n",
      "current budget: 302 , earned clicks: 11 \n",
      "\n",
      "current budget: 178 , earned clicks: 12 \n",
      "\n",
      "current budget: 101 , earned clicks: 13 \n",
      "\n",
      "current budget: 61 , earned clicks: 14 \n",
      "\n",
      "current budget: 30 , earned clicks: 15 \n",
      "\n",
      "current budget: 15 , earned clicks: 16 \n",
      "\n"
     ]
    }
   ],
   "source": [
    "budget = 1000\n",
    "constant_bid = 1000\n",
    "earned_clicks = 0\n",
    "\n",
    "print(\"starting budget:\", budget, \"\\n\")\n",
    "\n",
    "for index, row in df.iterrows():\n",
    "    \n",
    "    if constant_bid >= row['bidprice']:\n",
    "    \n",
    "        if row['click'] == 1:    # only reduce money from budget if ad has been clicked\n",
    "            \n",
    "            if budget >= row['payprice']:            # check if budget is sufficient for paying the payprice\n",
    "                budget = budget - row['payprice']    # substract money from budget\n",
    "                earned_clicks += 1                   # earn the click\n",
    "                \n",
    "                print(\"current budget:\", budget, \", earned clicks:\", earned_clicks, \"\\n\")\n",
    "                \n",
    "        \n",
    "    # check if still budget remaining\n",
    "    if budget <= 0:\n",
    "        print(\"entire budget is exhausted\")\n",
    "        break;\n",
    "        \n",
    "        \n",
    "        "
   ]
  },
  {
   "cell_type": "code",
   "execution_count": null,
   "metadata": {},
   "outputs": [],
   "source": []
  }
 ],
 "metadata": {
  "kernelspec": {
   "display_name": "Python 3",
   "language": "python",
   "name": "python3"
  },
  "language_info": {
   "codemirror_mode": {
    "name": "ipython",
    "version": 3
   },
   "file_extension": ".py",
   "mimetype": "text/x-python",
   "name": "python",
   "nbconvert_exporter": "python",
   "pygments_lexer": "ipython3",
   "version": "3.7.0"
  }
 },
 "nbformat": 4,
 "nbformat_minor": 2
}
